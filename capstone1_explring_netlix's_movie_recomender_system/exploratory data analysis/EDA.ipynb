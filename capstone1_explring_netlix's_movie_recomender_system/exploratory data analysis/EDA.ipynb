{
 "cells": [
  {
   "cell_type": "code",
   "execution_count": 1,
   "metadata": {
    "collapsed": false
   },
   "outputs": [
    {
     "name": "stdout",
     "output_type": "stream",
     "text": [
      "Populating the interactive namespace from numpy and matplotlib\n"
     ]
    }
   ],
   "source": [
    "%matplotlib inline\n",
    "%precision %.6f\n",
    "%pylab inline\n",
    "pylab.rcParams['figure.figsize'] = (7.5, 7.5)\n",
    "import numpy as np\n",
    "import pandas as pd\n",
    "from datetime import datetime\n",
    "import matplotlib.pyplot as plt\n",
    "import seaborn as sns\n",
    "import matplotlib.pyplot as plt\n",
    "import scipy.stats as stats\n",
    "plt.style.use('seaborn')\n",
    "#print(plt.style.available)\n",
    "from IPython.display import clear_output"
   ]
  },
  {
   "cell_type": "markdown",
   "metadata": {},
   "source": [
    "# Exploratory data analysis for springboard's data science career track\n",
    "# 1st Capstone project \"Exploring Netflix’s movie recommendation system\"\n",
    "\n",
    "The purpose of this exploratory data analysis is to identify possible variables in the Netflix Prize Data set\n",
    "that could potentially act as important factors in predicting movie ratings."
   ]
  },
  {
   "cell_type": "code",
   "execution_count": 87,
   "metadata": {
    "collapsed": false
   },
   "outputs": [
    {
     "data": {
      "text/html": [
       "<div>\n",
       "<table border=\"1\" class=\"dataframe\">\n",
       "  <thead>\n",
       "    <tr style=\"text-align: right;\">\n",
       "      <th></th>\n",
       "      <th>Name</th>\n",
       "      <th>Year</th>\n",
       "      <th>Genres</th>\n",
       "      <th>Sci-Fi</th>\n",
       "      <th>Crime</th>\n",
       "      <th>Romance</th>\n",
       "      <th>Animation</th>\n",
       "      <th>Music</th>\n",
       "      <th>Comedy</th>\n",
       "      <th>War</th>\n",
       "      <th>...</th>\n",
       "      <th>Action</th>\n",
       "      <th>Documentary</th>\n",
       "      <th>Musical</th>\n",
       "      <th>History</th>\n",
       "      <th>Family</th>\n",
       "      <th>Reality-TV</th>\n",
       "      <th>Fantasy</th>\n",
       "      <th>Game-Show</th>\n",
       "      <th>Sport</th>\n",
       "      <th>Biography</th>\n",
       "    </tr>\n",
       "  </thead>\n",
       "  <tbody>\n",
       "    <tr>\n",
       "      <th>1</th>\n",
       "      <td>Dinosaur Planet</td>\n",
       "      <td>2003</td>\n",
       "      <td>Documentary, Animation, Family</td>\n",
       "      <td>N</td>\n",
       "      <td>N</td>\n",
       "      <td>N</td>\n",
       "      <td>Y</td>\n",
       "      <td>N</td>\n",
       "      <td>N</td>\n",
       "      <td>N</td>\n",
       "      <td>...</td>\n",
       "      <td>N</td>\n",
       "      <td>Y</td>\n",
       "      <td>N</td>\n",
       "      <td>N</td>\n",
       "      <td>Y</td>\n",
       "      <td>N</td>\n",
       "      <td>N</td>\n",
       "      <td>N</td>\n",
       "      <td>N</td>\n",
       "      <td>N</td>\n",
       "    </tr>\n",
       "    <tr>\n",
       "      <th>2</th>\n",
       "      <td>Isle of Man TT 2004 Review</td>\n",
       "      <td>2004</td>\n",
       "      <td>None</td>\n",
       "      <td>N</td>\n",
       "      <td>N</td>\n",
       "      <td>N</td>\n",
       "      <td>N</td>\n",
       "      <td>N</td>\n",
       "      <td>N</td>\n",
       "      <td>N</td>\n",
       "      <td>...</td>\n",
       "      <td>N</td>\n",
       "      <td>N</td>\n",
       "      <td>N</td>\n",
       "      <td>N</td>\n",
       "      <td>N</td>\n",
       "      <td>N</td>\n",
       "      <td>N</td>\n",
       "      <td>N</td>\n",
       "      <td>N</td>\n",
       "      <td>N</td>\n",
       "    </tr>\n",
       "    <tr>\n",
       "      <th>3</th>\n",
       "      <td>Character</td>\n",
       "      <td>1997</td>\n",
       "      <td>Crime, Drama, Mystery</td>\n",
       "      <td>N</td>\n",
       "      <td>Y</td>\n",
       "      <td>N</td>\n",
       "      <td>N</td>\n",
       "      <td>N</td>\n",
       "      <td>N</td>\n",
       "      <td>N</td>\n",
       "      <td>...</td>\n",
       "      <td>N</td>\n",
       "      <td>N</td>\n",
       "      <td>N</td>\n",
       "      <td>N</td>\n",
       "      <td>N</td>\n",
       "      <td>N</td>\n",
       "      <td>N</td>\n",
       "      <td>N</td>\n",
       "      <td>N</td>\n",
       "      <td>N</td>\n",
       "    </tr>\n",
       "    <tr>\n",
       "      <th>4</th>\n",
       "      <td>Paula Abdul's Get Up &amp; Dance</td>\n",
       "      <td>1994</td>\n",
       "      <td>None</td>\n",
       "      <td>N</td>\n",
       "      <td>N</td>\n",
       "      <td>N</td>\n",
       "      <td>N</td>\n",
       "      <td>N</td>\n",
       "      <td>N</td>\n",
       "      <td>N</td>\n",
       "      <td>...</td>\n",
       "      <td>N</td>\n",
       "      <td>N</td>\n",
       "      <td>N</td>\n",
       "      <td>N</td>\n",
       "      <td>N</td>\n",
       "      <td>N</td>\n",
       "      <td>N</td>\n",
       "      <td>N</td>\n",
       "      <td>N</td>\n",
       "      <td>N</td>\n",
       "    </tr>\n",
       "    <tr>\n",
       "      <th>5</th>\n",
       "      <td>The Rise and Fall of ECW</td>\n",
       "      <td>2004</td>\n",
       "      <td>None</td>\n",
       "      <td>N</td>\n",
       "      <td>N</td>\n",
       "      <td>N</td>\n",
       "      <td>N</td>\n",
       "      <td>N</td>\n",
       "      <td>N</td>\n",
       "      <td>N</td>\n",
       "      <td>...</td>\n",
       "      <td>N</td>\n",
       "      <td>N</td>\n",
       "      <td>N</td>\n",
       "      <td>N</td>\n",
       "      <td>N</td>\n",
       "      <td>N</td>\n",
       "      <td>N</td>\n",
       "      <td>N</td>\n",
       "      <td>N</td>\n",
       "      <td>N</td>\n",
       "    </tr>\n",
       "  </tbody>\n",
       "</table>\n",
       "<p>5 rows × 32 columns</p>\n",
       "</div>"
      ],
      "text/plain": [
       "                           Name  Year                          Genres Sci-Fi  \\\n",
       "1               Dinosaur Planet  2003  Documentary, Animation, Family      N   \n",
       "2    Isle of Man TT 2004 Review  2004                            None      N   \n",
       "3                     Character  1997           Crime, Drama, Mystery      N   \n",
       "4  Paula Abdul's Get Up & Dance  1994                            None      N   \n",
       "5      The Rise and Fall of ECW  2004                            None      N   \n",
       "\n",
       "  Crime Romance Animation Music Comedy War    ...    Action Documentary  \\\n",
       "1     N       N         Y     N      N   N    ...         N           Y   \n",
       "2     N       N         N     N      N   N    ...         N           N   \n",
       "3     Y       N         N     N      N   N    ...         N           N   \n",
       "4     N       N         N     N      N   N    ...         N           N   \n",
       "5     N       N         N     N      N   N    ...         N           N   \n",
       "\n",
       "  Musical History Family Reality-TV Fantasy Game-Show Sport Biography  \n",
       "1       N       N      Y          N       N         N     N         N  \n",
       "2       N       N      N          N       N         N     N         N  \n",
       "3       N       N      N          N       N         N     N         N  \n",
       "4       N       N      N          N       N         N     N         N  \n",
       "5       N       N      N          N       N         N     N         N  \n",
       "\n",
       "[5 rows x 32 columns]"
      ]
     },
     "execution_count": 87,
     "metadata": {},
     "output_type": "execute_result"
    }
   ],
   "source": [
    "# The following part loads the data frame containing the movies name, id, year of release, and genre information\n",
    "df_movies = pd.read_csv('movies_plus_genre_info_2.csv')\n",
    "df_movies.index.name = 'MovieID'\n",
    "df_movies.index = np.arange(1, len(df_movies)+1)\n",
    "df_movies.head(5)"
   ]
  },
  {
   "cell_type": "code",
   "execution_count": 88,
   "metadata": {
    "collapsed": false
   },
   "outputs": [
    {
     "data": {
      "text/html": [
       "<div>\n",
       "<table border=\"1\" class=\"dataframe\">\n",
       "  <thead>\n",
       "    <tr style=\"text-align: right;\">\n",
       "      <th></th>\n",
       "      <th>User ID</th>\n",
       "      <th>Rating</th>\n",
       "      <th>Date</th>\n",
       "      <th>Movie ID</th>\n",
       "      <th>Year of Release</th>\n",
       "      <th>Genre</th>\n",
       "    </tr>\n",
       "  </thead>\n",
       "  <tbody>\n",
       "    <tr>\n",
       "      <th>0</th>\n",
       "      <td>1488844</td>\n",
       "      <td>3</td>\n",
       "      <td>2005-09-06</td>\n",
       "      <td>1</td>\n",
       "      <td>2003</td>\n",
       "      <td>Documentary, Animation, Family</td>\n",
       "    </tr>\n",
       "    <tr>\n",
       "      <th>1</th>\n",
       "      <td>822109</td>\n",
       "      <td>5</td>\n",
       "      <td>2005-05-13</td>\n",
       "      <td>1</td>\n",
       "      <td>2003</td>\n",
       "      <td>Documentary, Animation, Family</td>\n",
       "    </tr>\n",
       "    <tr>\n",
       "      <th>2</th>\n",
       "      <td>885013</td>\n",
       "      <td>4</td>\n",
       "      <td>2005-10-19</td>\n",
       "      <td>1</td>\n",
       "      <td>2003</td>\n",
       "      <td>Documentary, Animation, Family</td>\n",
       "    </tr>\n",
       "    <tr>\n",
       "      <th>3</th>\n",
       "      <td>30878</td>\n",
       "      <td>4</td>\n",
       "      <td>2005-12-26</td>\n",
       "      <td>1</td>\n",
       "      <td>2003</td>\n",
       "      <td>Documentary, Animation, Family</td>\n",
       "    </tr>\n",
       "    <tr>\n",
       "      <th>4</th>\n",
       "      <td>823519</td>\n",
       "      <td>3</td>\n",
       "      <td>2004-05-03</td>\n",
       "      <td>1</td>\n",
       "      <td>2003</td>\n",
       "      <td>Documentary, Animation, Family</td>\n",
       "    </tr>\n",
       "  </tbody>\n",
       "</table>\n",
       "</div>"
      ],
      "text/plain": [
       "   User ID  Rating        Date  Movie ID  Year of Release  \\\n",
       "0  1488844       3  2005-09-06         1             2003   \n",
       "1   822109       5  2005-05-13         1             2003   \n",
       "2   885013       4  2005-10-19         1             2003   \n",
       "3    30878       4  2005-12-26         1             2003   \n",
       "4   823519       3  2004-05-03         1             2003   \n",
       "\n",
       "                            Genre  \n",
       "0  Documentary, Animation, Family  \n",
       "1  Documentary, Animation, Family  \n",
       "2  Documentary, Animation, Family  \n",
       "3  Documentary, Animation, Family  \n",
       "4  Documentary, Animation, Family  "
      ]
     },
     "execution_count": 88,
     "metadata": {},
     "output_type": "execute_result"
    }
   ],
   "source": [
    "#The following will load the dataframe with the ratings data\n",
    "df_data = pd.read_csv('ratings_plus_genre_info.csv')\n",
    "df_data.head()"
   ]
  },
  {
   "cell_type": "markdown",
   "metadata": {},
   "source": [
    "For the Genre column in the previous 2 data frames, an entry  of 'None', means that we were not able to retrieve movie \n",
    "info from the OMDB api. Of note,this columns is of string type, that is, 'None' is actually a string a not a None type"
   ]
  },
  {
   "cell_type": "code",
   "execution_count": 4,
   "metadata": {
    "collapsed": false
   },
   "outputs": [
    {
     "data": {
      "text/plain": [
       "Rating\n",
       "1     4.595906\n",
       "2    10.083627\n",
       "3    28.673469\n",
       "4    33.589558\n",
       "5    23.057439\n",
       "dtype: float64"
      ]
     },
     "execution_count": 4,
     "metadata": {},
     "output_type": "execute_result"
    }
   ],
   "source": [
    "data_by_rating = df_data.groupby('Rating').size() * 100 / len(df_data)\n",
    "data_by_rating"
   ]
  },
  {
   "cell_type": "markdown",
   "metadata": {},
   "source": [
    "# What is the overall distribution of the movie ratings?\n",
    "Since we want to eventually predict movie ratings, we should first look at the overall distribution of the movie ratings."
   ]
  },
  {
   "cell_type": "code",
   "execution_count": 5,
   "metadata": {
    "collapsed": false
   },
   "outputs": [
    {
     "data": {
      "image/png": "[encoded data removed]",
      "text/plain": [
       "<matplotlib.figure.Figure at 0x19881b950>"
      ]
     },
     "metadata": {},
     "output_type": "display_data"
    }
   ],
   "source": [
    "labels = ('1 Star', '2 Star', '3 Star', '4 Star', '5 Star')\n",
    "y_pos = np.arange(len(labels))\n",
    "n_of_ratings = data_by_rating.values\n",
    "fig, ax = plt.subplots(figsize = (7.5, 7.5))\n",
    "ax.set_yticks(y_pos)\n",
    "ax.set_yticklabels(labels)\n",
    "\n",
    "plt.barh(y_pos, n_of_ratings, align='center', color=['#FF6666', '#FFB266','#B2FF66', '#66B2FF', '#B266FF'], edgecolor = 'b')\n",
    "plt.xlabel('Percentage of Ratings (%)')\n",
    "plt.show()"
   ]
  },
  {
   "cell_type": "code",
   "execution_count": 6,
   "metadata": {
    "collapsed": false
   },
   "outputs": [
    {
     "name": "stdout",
     "output_type": "stream",
     "text": [
      "The average rating is : 3.60428996442\n",
      "The standar deviation for the ratings is : 1.08521856019\n"
     ]
    }
   ],
   "source": [
    "print('The average rating is : ' + str(np.mean(df_data.Rating)))\n",
    "print('The standar deviation for the ratings is : ' + str(np.std(df_data.Rating)))"
   ]
  },
  {
   "cell_type": "markdown",
   "metadata": {},
   "source": [
    "The above bar plot shows that the most frequent movie rating is 4 stars. We can also see that\n",
    "the majortiy of the ratings (~ 56%)  received a good rating (4 or 5 Stars). Overall, the average\n",
    "movie rating is ~ 3.6 Stars, with  a standar deviation of ~1.09 Stars.\n"
   ]
  },
  {
   "cell_type": "markdown",
   "metadata": {
    "collapsed": false
   },
   "source": [
    "# What is the distribution of average user ratings? Do some users have a bias when giving ratings?\n",
    "It could be posible that specific users have an overall bias towards giving positive or negative movie ratings.\n",
    "Therefore, we should also look at what the distribution of user average movie ratings look like."
   ]
  },
  {
   "cell_type": "code",
   "execution_count": 7,
   "metadata": {
    "collapsed": true
   },
   "outputs": [],
   "source": [
    "#this part groups the data by user id applying the mean() function\n",
    "data_by_user_m = df_data.groupby('User ID').mean()\n",
    "#this part groups the data by user id applying the count() function\n",
    "data_by_user_c = df_data.groupby('User ID').count()"
   ]
  },
  {
   "cell_type": "code",
   "execution_count": 8,
   "metadata": {
    "collapsed": false
   },
   "outputs": [
    {
     "data": {
      "image/png": "[encoded data removed]",
      "text/plain": [
       "<matplotlib.figure.Figure at 0x1c9a9b290>"
      ]
     },
     "metadata": {},
     "output_type": "display_data"
    }
   ],
   "source": [
    "values, bins, _ = plt.hist(data_by_user_m['Rating'].values, bins = 50, normed = True)\n",
    "area = sum(np.diff(bins)*values)\n",
    "plt.xlabel('Average  user rating (Stars)')\n",
    "plt.ylabel('Probability Density Function')\n",
    "plt.show()"
   ]
  },
  {
   "cell_type": "code",
   "execution_count": 9,
   "metadata": {
    "collapsed": false
   },
   "outputs": [
    {
     "data": {
      "text/plain": [
       "NormaltestResult(statistic=12510.954664932149, pvalue=0.0)"
      ]
     },
     "execution_count": 9,
     "metadata": {},
     "output_type": "execute_result"
    }
   ],
   "source": [
    "stats.normaltest(data_by_user_m['Rating'].values)"
   ]
  },
  {
   "cell_type": "markdown",
   "metadata": {},
   "source": [
    "Looking at the above histogram, it seems that the average user rating is normally distributed.\n",
    "Indeed, the pvalue (pvalue < 0.05) from the normality test that we run above, confirms this observation."
   ]
  },
  {
   "cell_type": "code",
   "execution_count": 10,
   "metadata": {
    "collapsed": false
   },
   "outputs": [
    {
     "data": {
      "image/png": "[encoded data removed]",
      "text/plain": [
       "<matplotlib.figure.Figure at 0x107344b50>"
      ]
     },
     "metadata": {},
     "output_type": "display_data"
    }
   ],
   "source": [
    "fig = plt.figure(figsize=(15,7.5))\n",
    "plt.subplot(1,2,1)\n",
    "plt.hist(data_by_user_c['Rating'].values, bins = 50, normed = True)\n",
    "plt.ylabel('Probability Density Function')\n",
    "plt.xlabel('Number of ratings by user')\n",
    "\n",
    "plt.subplot(1,2,2)\n",
    "plt.hist(np.log(data_by_user_c['Rating'].values), bins = 50, normed = True)\n",
    "plt.xlabel('Log(Number of ratings by user)')\n",
    "\n",
    "plt.show()"
   ]
  },
  {
   "cell_type": "code",
   "execution_count": 11,
   "metadata": {
    "collapsed": false
   },
   "outputs": [
    {
     "data": {
      "text/plain": [
       "NormaltestResult(statistic=3443.7109189009279, pvalue=0.0)"
      ]
     },
     "execution_count": 11,
     "metadata": {},
     "output_type": "execute_result"
    }
   ],
   "source": [
    "stats.normaltest(np.log(data_by_user_c['Rating'].values))"
   ]
  },
  {
   "cell_type": "code",
   "execution_count": 12,
   "metadata": {
    "collapsed": false
   },
   "outputs": [
    {
     "name": "stdout",
     "output_type": "stream",
     "text": [
      "The maximum number of ratings by any user is : 17653\n",
      "The minimum number of ratings by any user is : 1\n",
      "The average number of ratings by a single user: 209.25199661\n"
     ]
    }
   ],
   "source": [
    "print('The maximum number of ratings by any user is : ' + str(max(data_by_user_c['Rating'].values)))\n",
    "print('The minimum number of ratings by any user is : ' + str(min(data_by_user_c['Rating'].values)))\n",
    "print('The average number of ratings by a single user: ' + str(np.mean(data_by_user_c['Rating'].values)))"
   ]
  },
  {
   "cell_type": "markdown",
   "metadata": {},
   "source": [
    "Note, that in order to better visualize the distribution of the total number of ratings, the data was Log transformed\n",
    "(with the np.log() function; right side plot).\n",
    "The log transformed data is normally distributed(as evidenced by a pvalue < 0.05 returned by the normality test).\n",
    "In addition a single user rated on average ~ 209 movies"
   ]
  },
  {
   "cell_type": "markdown",
   "metadata": {},
   "source": [
    "If we assume that users with an average ratings of above 4 Stars or below 3 Starsl average \n",
    "have a positive or negative bias when evaluating movies, then we can make the following calculation:"
   ]
  },
  {
   "cell_type": "code",
   "execution_count": 13,
   "metadata": {
    "collapsed": false
   },
   "outputs": [
    {
     "name": "stdout",
     "output_type": "stream",
     "text": [
      "% with bias : 29\n",
      "% without bias : 70\n"
     ]
    }
   ],
   "source": [
    "with_bias = np.sum((data_by_user_m['Rating'] > 4)) + np.sum((data_by_user_m['Rating'] < 3))\n",
    "without_bias = len(data_by_user_m['Rating']) - with_bias\n",
    "\n",
    "print('% with bias : ' + str(100*with_bias/len(data_by_user_m['Rating'])))\n",
    "print('% without bias : ' + str(100*without_bias/len(data_by_user_m['Rating'])))"
   ]
  },
  {
   "cell_type": "markdown",
   "metadata": {},
   "source": [
    "Under the above assumptions, we can see that ~30% of users have a bias when rating movies.\n",
    "Thus, it could potentially be interesting to have a movie rating predictive model, that includes a user-specific  bias."
   ]
  },
  {
   "cell_type": "markdown",
   "metadata": {},
   "source": [
    "# Does the movie release year have an effect on ratings?\n",
    "Movies released on different years might be of different qualities, hence  release year might be an important \n",
    "factor in determining movie ratings.\n",
    "\n"
   ]
  },
  {
   "cell_type": "code",
   "execution_count": 14,
   "metadata": {
    "collapsed": true
   },
   "outputs": [],
   "source": [
    "#this part groups the data by user id applying the count() function\n",
    "data_by_year_c = df_data.groupby('Year of Release').count().apply(np.sqrt)\n",
    "data_by_year_m = df_data.groupby('Year of Release').mean() #average rating by year\n",
    "data_by_year_s = df_data.groupby('Year of Release').std() #rating standar deviation by year\n",
    "se = data_by_year_s['Rating']/data_by_year_c['Rating'] #standar error"
   ]
  },
  {
   "cell_type": "code",
   "execution_count": 15,
   "metadata": {
    "collapsed": false
   },
   "outputs": [
    {
     "data": {
      "image/png": "[encoded data removed]",
      "text/plain": [
       "<matplotlib.figure.Figure at 0x10de464d0>"
      ]
     },
     "metadata": {},
     "output_type": "display_data"
    }
   ],
   "source": [
    "fig = plt.figure(figsize=(7.5,7.5))\n",
    "x = data_by_year_m.index.values\n",
    "y = data_by_year_m['Rating'].values\n",
    "error = se.values\n",
    "y += np.random.normal(0, 0.1, size=y.shape)\n",
    "\n",
    "plt.plot(x, [3.6]*94, color = 'r', linewidth = 1)\n",
    "plt.plot(x, y, color = 'k', linewidth = 1)\n",
    "plt.fill_between(x, y-error, y+error, alpha = 0.5, color = '#CC99FF')\n",
    "plt.xlabel('Year of movie release')\n",
    "plt.ylabel('Average rating +/- standar error')\n",
    "plt.show()"
   ]
  },
  {
   "cell_type": "markdown",
   "metadata": {},
   "source": [
    "The previous plot shows the average rating for each year (black line), +/- the standar error (shaded region around black line). \n",
    "The red line represents the overall average rating (~3.6 Stars). The small standar error for most years, \n",
    "shows that the average rating on that year is different than the overall average rating. This suggests that the year in which\n",
    "the movie was released may be an important factor affecting the rating predictions."
   ]
  },
  {
   "cell_type": "markdown",
   "metadata": {},
   "source": [
    "To determine if the average ratings of movie from a particular year differ from the overall average rating, \n",
    "we can extract all the ratings from a specific year of movie release and use a one sample t-test to compare them \n",
    "to the overall average (considering pvalues < 0.001 as indicating significance)"
   ]
  },
  {
   "cell_type": "code",
   "execution_count": 35,
   "metadata": {
    "collapsed": false
   },
   "outputs": [],
   "source": [
    "sig = []\n",
    "mean = []\n",
    "count = 0\n",
    "for year in data_by_year_m.index.values:\n",
    "    d = df_data[df_data['Year of Release'] == year]\n",
    "    d['Rating'].values\n",
    "    t,p = stats.ttest_1samp(d['Rating'].values,np.mean(df_data['Rating'].values)) \n",
    "    if p < 0.001:\n",
    "        sig.append('Y')\n",
    "        count += 1\n",
    "    else:\n",
    "        sig.append('N')"
   ]
  },
  {
   "cell_type": "code",
   "execution_count": 36,
   "metadata": {
    "collapsed": false
   },
   "outputs": [
    {
     "name": "stdout",
     "output_type": "stream",
     "text": [
      "Number of years with significant difference : 89\n",
      "Total number of years : 94\n"
     ]
    }
   ],
   "source": [
    "print('Number of years with significant difference : ' +str(count))\n",
    "print('Total number of years : ' + str(len(data_by_year_m.index.values)))"
   ]
  },
  {
   "cell_type": "markdown",
   "metadata": {},
   "source": [
    "We can see that 89 out of the 94 different movie release year are significantly different than the overall averge.\n",
    "Thus, the year in which a particular movie was release may have asignificant effect on the predictions of movie ratings.\n"
   ]
  },
  {
   "cell_type": "markdown",
   "metadata": {},
   "source": [
    "## Does the day of the week have an effect on the rating?\n",
    "It seems reasonable to suspect that people's mood may cahnge with the different days of the week, which in turn\n",
    "might affect the prediction of ratings.\n",
    "\n",
    "To investigate this, the first step is to convert the string containing the date of rating, \n",
    "into the respective day of the week"
   ]
  },
  {
   "cell_type": "code",
   "execution_count": 38,
   "metadata": {
    "collapsed": false
   },
   "outputs": [
    {
     "data": {
      "text/html": [
       "<div>\n",
       "<table border=\"1\" class=\"dataframe\">\n",
       "  <thead>\n",
       "    <tr style=\"text-align: right;\">\n",
       "      <th></th>\n",
       "      <th>User ID</th>\n",
       "      <th>Rating</th>\n",
       "      <th>Date</th>\n",
       "      <th>Movie ID</th>\n",
       "      <th>Year of Release</th>\n",
       "      <th>Genre</th>\n",
       "      <th>weekday</th>\n",
       "    </tr>\n",
       "  </thead>\n",
       "  <tbody>\n",
       "    <tr>\n",
       "      <th>0</th>\n",
       "      <td>1488844</td>\n",
       "      <td>3</td>\n",
       "      <td>2005-09-06</td>\n",
       "      <td>1</td>\n",
       "      <td>2003</td>\n",
       "      <td>Documentary, Animation, Family</td>\n",
       "      <td>Tuesday</td>\n",
       "    </tr>\n",
       "    <tr>\n",
       "      <th>1</th>\n",
       "      <td>822109</td>\n",
       "      <td>5</td>\n",
       "      <td>2005-05-13</td>\n",
       "      <td>1</td>\n",
       "      <td>2003</td>\n",
       "      <td>Documentary, Animation, Family</td>\n",
       "      <td>Friday</td>\n",
       "    </tr>\n",
       "    <tr>\n",
       "      <th>2</th>\n",
       "      <td>885013</td>\n",
       "      <td>4</td>\n",
       "      <td>2005-10-19</td>\n",
       "      <td>1</td>\n",
       "      <td>2003</td>\n",
       "      <td>Documentary, Animation, Family</td>\n",
       "      <td>Wednesday</td>\n",
       "    </tr>\n",
       "    <tr>\n",
       "      <th>3</th>\n",
       "      <td>30878</td>\n",
       "      <td>4</td>\n",
       "      <td>2005-12-26</td>\n",
       "      <td>1</td>\n",
       "      <td>2003</td>\n",
       "      <td>Documentary, Animation, Family</td>\n",
       "      <td>Monday</td>\n",
       "    </tr>\n",
       "    <tr>\n",
       "      <th>4</th>\n",
       "      <td>823519</td>\n",
       "      <td>3</td>\n",
       "      <td>2004-05-03</td>\n",
       "      <td>1</td>\n",
       "      <td>2003</td>\n",
       "      <td>Documentary, Animation, Family</td>\n",
       "      <td>Monday</td>\n",
       "    </tr>\n",
       "  </tbody>\n",
       "</table>\n",
       "</div>"
      ],
      "text/plain": [
       "   User ID  Rating        Date  Movie ID  Year of Release  \\\n",
       "0  1488844       3  2005-09-06         1             2003   \n",
       "1   822109       5  2005-05-13         1             2003   \n",
       "2   885013       4  2005-10-19         1             2003   \n",
       "3    30878       4  2005-12-26         1             2003   \n",
       "4   823519       3  2004-05-03         1             2003   \n",
       "\n",
       "                            Genre    weekday  \n",
       "0  Documentary, Animation, Family    Tuesday  \n",
       "1  Documentary, Animation, Family     Friday  \n",
       "2  Documentary, Animation, Family  Wednesday  \n",
       "3  Documentary, Animation, Family     Monday  \n",
       "4  Documentary, Animation, Family     Monday  "
      ]
     },
     "execution_count": 38,
     "metadata": {},
     "output_type": "execute_result"
    }
   ],
   "source": [
    "#First, we need to transform our date column (string), into a day of the week\n",
    "days_dict = {0: 'Monday', 1: 'Tuesday', 2: 'Wednesday', 3: 'Thursday', 4: 'Friday', 5: 'Saturday', 6: 'Sunday'}\n",
    "\n",
    "dum = lambda x: datetime.strptime(x, '%Y-%m-%d').weekday()\n",
    "df_data['weekday'] = df_data['Date'].apply(dum)\n",
    "df_data['weekday'] = df_data['weekday'].map(days_dict)\n",
    "df_data.head()"
   ]
  },
  {
   "cell_type": "code",
   "execution_count": 39,
   "metadata": {
    "collapsed": false
   },
   "outputs": [],
   "source": [
    "data_by_day_m = df_data.groupby('weekday').mean()\n",
    "data_by_day_c = df_data.groupby('weekday').count()"
   ]
  },
  {
   "cell_type": "code",
   "execution_count": 43,
   "metadata": {
    "collapsed": false
   },
   "outputs": [
    {
     "data": {
      "text/plain": [
       "3.597735"
      ]
     },
     "execution_count": 43,
     "metadata": {},
     "output_type": "execute_result"
    }
   ],
   "source": [
    "data_by_day_m.loc['Monday','Rating']"
   ]
  },
  {
   "cell_type": "code",
   "execution_count": 76,
   "metadata": {
    "collapsed": false
   },
   "outputs": [],
   "source": [
    "labels = ('Monday', 'Tuesday', 'Wednesday', 'Thursday', 'Friday', 'Saturday', 'Sunday')\n",
    "data = []\n",
    "sig = []\n",
    "\n",
    "for elem in labels:\n",
    "    a = list(df_data[df_data['weekday'] == elem]['Rating'].values)\n",
    "    t,p = stats.ttest_1samp(a,np.mean(df_data['Rating'].values)) \n",
    "    if p < 0.001:\n",
    "        sig.append('Yes')\n",
    "    else:\n",
    "        sig.append('No')\n",
    "        \n",
    "    data.append(a)\n",
    "    \n",
    "means = map(np.mean, data)\n",
    "se = map(stats.sem, data)\n",
    "n_s = map(len, data)"
   ]
  },
  {
   "cell_type": "code",
   "execution_count": 77,
   "metadata": {
    "collapsed": false
   },
   "outputs": [
    {
     "data": {
      "image/png": "[encoded data removed]",
      "text/plain": [
       "<matplotlib.figure.Figure at 0x1118eea90>"
      ]
     },
     "metadata": {},
     "output_type": "display_data"
    }
   ],
   "source": [
    "x_pos = list(range(1,2*len(data),2))\n",
    "color=['#FF6666', '#FFB266', '#FFFF66','#B2FF66', '#66B2FF', '#6666FF', '#B266FF'] \n",
    "\n",
    "fig, ax = plt.subplots(figsize = (7.5, 7.5))\n",
    "\n",
    "plt.plot([0,14],[np.mean(df_data['Rating'].values)]*2, linewidth = 1, color = 'k', linestyle = '--')\n",
    "plt.bar(x_pos,\n",
    "        # using the data from the mean_values\n",
    "        means, \n",
    "        # with a y-error lines set as standar errors\n",
    "        yerr=se, \n",
    "        # aligned in the center\n",
    "        align='center',\n",
    "        # with color\n",
    "        color = color,\n",
    "        # transparency\n",
    "        alpha=.75)\n",
    "\n",
    "ax.set_xticks(x_pos)\n",
    "ax.set_xticklabels(labels)\n",
    "plt.ylim(2,5)\n",
    "plt.xticks(rotation=45)\n",
    "plt.xlabel('Day of the week')\n",
    "plt.ylabel('Average rating')\n",
    "plt.show()"
   ]
  },
  {
   "cell_type": "code",
   "execution_count": 84,
   "metadata": {
    "collapsed": false
   },
   "outputs": [
    {
     "name": "stdout",
     "output_type": "stream",
     "text": [
      "Monday average rating : 3.59773501062\n",
      "Was Monday different than the overall mean? : Yes\n",
      " \n",
      "Tuesday average rating : 3.59580838795\n",
      "Was Tuesday different than the overall mean? : Yes\n",
      " \n",
      "Wednesday average rating : 3.60472457466\n",
      "Was Wednesday different than the overall mean? : No\n",
      " \n",
      "Thursday average rating : 3.60430473069\n",
      "Was Thursday different than the overall mean? : No\n",
      " \n",
      "Friday average rating : 3.60589241374\n",
      "Was Friday different than the overall mean? : Yes\n",
      " \n",
      "Saturday average rating : 3.61475413024\n",
      "Was Saturday different than the overall mean? : Yes\n",
      " \n",
      "Sunday average rating : 3.61644876449\n",
      "Was Sunday different than the overall mean? : Yes\n",
      " \n"
     ]
    }
   ],
   "source": [
    "for i in range(len(labels)):\n",
    "    print(labels[i] + ' average rating : ' + str(np.mean(data[i])))\n",
    "    print('Was ' + labels[i] + ' different than the overall mean? : ' + sig[i])\n",
    "    print(' ')"
   ]
  },
  {
   "cell_type": "markdown",
   "metadata": {},
   "source": [
    "When extracting the data from the main dataframe, a one sample t-test was used to asses if the ratings for a respective\n",
    "day of the week were different from the overal mean(~3.6). Significant differences where  considered when pvalue <0.001\n",
    "\n",
    "***: Note that for a better visualization that y-axis goes from 2 to 5.\n",
    "\n",
    "From the list previously printed, we can see that ratings from Monday, Tuesday, Friday, Saturday and Sunday where\n",
    "different thant the overall average. However when we look at the barplot above  we can see that, although some days\n",
    "had ratings different than the average(~3.6; dashed black line in the barplot graph), the average rating for all days\n",
    "of the week is very similar to the overall average (~3.6; see the printed values above). Also not\n",
    "\n",
    "This suggests that the day of the week might not be an influential factor when predicting movie ratings."
   ]
  },
  {
   "cell_type": "markdown",
   "metadata": {},
   "source": [
    "# Is the rating of a movie affected by its genre?\n",
    "The genre information included here is not originally from the Netflix prize data set, but was obtained \n",
    "from the Open Movie data base API (OMDb)."
   ]
  },
  {
   "cell_type": "code",
   "execution_count": 92,
   "metadata": {
    "collapsed": true
   },
   "outputs": [],
   "source": [
    "d1 = dict(zip(df_movies.index,df_movies['Genres'].values))\n",
    "df_data['aux2'] = df_data['Movie ID'].map(d1)"
   ]
  },
  {
   "cell_type": "code",
   "execution_count": 93,
   "metadata": {
    "collapsed": false
   },
   "outputs": [
    {
     "data": {
      "text/html": [
       "<div>\n",
       "<table border=\"1\" class=\"dataframe\">\n",
       "  <thead>\n",
       "    <tr style=\"text-align: right;\">\n",
       "      <th></th>\n",
       "      <th>User ID</th>\n",
       "      <th>Rating</th>\n",
       "      <th>Date</th>\n",
       "      <th>Movie ID</th>\n",
       "      <th>Year of Release</th>\n",
       "      <th>Genre</th>\n",
       "      <th>aux2</th>\n",
       "    </tr>\n",
       "  </thead>\n",
       "  <tbody>\n",
       "    <tr>\n",
       "      <th>0</th>\n",
       "      <td>1488844</td>\n",
       "      <td>3</td>\n",
       "      <td>2005-09-06</td>\n",
       "      <td>1</td>\n",
       "      <td>2003</td>\n",
       "      <td>Documentary, Animation, Family</td>\n",
       "      <td>Documentary, Animation, Family</td>\n",
       "    </tr>\n",
       "    <tr>\n",
       "      <th>1</th>\n",
       "      <td>822109</td>\n",
       "      <td>5</td>\n",
       "      <td>2005-05-13</td>\n",
       "      <td>1</td>\n",
       "      <td>2003</td>\n",
       "      <td>Documentary, Animation, Family</td>\n",
       "      <td>Documentary, Animation, Family</td>\n",
       "    </tr>\n",
       "    <tr>\n",
       "      <th>2</th>\n",
       "      <td>885013</td>\n",
       "      <td>4</td>\n",
       "      <td>2005-10-19</td>\n",
       "      <td>1</td>\n",
       "      <td>2003</td>\n",
       "      <td>Documentary, Animation, Family</td>\n",
       "      <td>Documentary, Animation, Family</td>\n",
       "    </tr>\n",
       "    <tr>\n",
       "      <th>3</th>\n",
       "      <td>30878</td>\n",
       "      <td>4</td>\n",
       "      <td>2005-12-26</td>\n",
       "      <td>1</td>\n",
       "      <td>2003</td>\n",
       "      <td>Documentary, Animation, Family</td>\n",
       "      <td>Documentary, Animation, Family</td>\n",
       "    </tr>\n",
       "    <tr>\n",
       "      <th>4</th>\n",
       "      <td>823519</td>\n",
       "      <td>3</td>\n",
       "      <td>2004-05-03</td>\n",
       "      <td>1</td>\n",
       "      <td>2003</td>\n",
       "      <td>Documentary, Animation, Family</td>\n",
       "      <td>Documentary, Animation, Family</td>\n",
       "    </tr>\n",
       "  </tbody>\n",
       "</table>\n",
       "</div>"
      ],
      "text/plain": [
       "   User ID  Rating        Date  Movie ID  Year of Release  \\\n",
       "0  1488844       3  2005-09-06         1             2003   \n",
       "1   822109       5  2005-05-13         1             2003   \n",
       "2   885013       4  2005-10-19         1             2003   \n",
       "3    30878       4  2005-12-26         1             2003   \n",
       "4   823519       3  2004-05-03         1             2003   \n",
       "\n",
       "                            Genre                            aux2  \n",
       "0  Documentary, Animation, Family  Documentary, Animation, Family  \n",
       "1  Documentary, Animation, Family  Documentary, Animation, Family  \n",
       "2  Documentary, Animation, Family  Documentary, Animation, Family  \n",
       "3  Documentary, Animation, Family  Documentary, Animation, Family  \n",
       "4  Documentary, Animation, Family  Documentary, Animation, Family  "
      ]
     },
     "execution_count": 93,
     "metadata": {},
     "output_type": "execute_result"
    }
   ],
   "source": [
    "df_data.head()"
   ]
  },
  {
   "cell_type": "code",
   "execution_count": 101,
   "metadata": {
    "collapsed": false
   },
   "outputs": [
    {
     "name": "stdout",
     "output_type": "stream",
     "text": [
      "% of movies with no Genre information : 10\n"
     ]
    }
   ],
   "source": [
    "a = len(df_data[df_data['aux2'] == 'None'])\n",
    "b = len(df_data)\n",
    "m = (100*a)/b\n",
    "print('% of ratings with no Genre information : ' + str(m))"
   ]
  },
  {
   "cell_type": "markdown",
   "metadata": {
    "collapsed": false
   },
   "source": [
    "Not every movie in the netflix prize data set, has information available from the OMDb. However, doing a quick \n",
    "calculation we can see that only ~10% of the total ratings lack the respective genre information. \n",
    "Given the large size of the present data set, one could potetially exclude those 10% observations, and create \n",
    "rating predictions that consider the movie's genre'"
   ]
  },
  {
   "cell_type": "code",
   "execution_count": 103,
   "metadata": {
    "collapsed": false
   },
   "outputs": [
    {
     "name": "stdout",
     "output_type": "stream",
     "text": [
      "Index([u'Sci-Fi', u'Crime', u'Romance', u'Animation', u'Music', u'Comedy',\n",
      "       u'War', u'Horror', u'Film-Noir', u'Adventure', u'News', u'Western',\n",
      "       u'Thriller', u'Adult', u'Mystery', u'Short', u'Talk-Show', u'N/A',\n",
      "       u'Drama', u'Action', u'Documentary', u'Musical', u'History', u'Family',\n",
      "       u'Reality-TV', u'Fantasy', u'Game-Show', u'Sport', u'Biography'],\n",
      "      dtype='object')\n"
     ]
    }
   ],
   "source": [
    "genres = df_movies.columns[3:]\n",
    "print(genres)"
   ]
  },
  {
   "cell_type": "code",
   "execution_count": 139,
   "metadata": {
    "collapsed": false,
    "scrolled": true
   },
   "outputs": [],
   "source": [
    "#In the following lines we will extract the ratins associated with a respective genre\n",
    "#In addition, a 1-sample t-test will be run  to asses if the ratings of movies from a specific genre\n",
    "#differ from the overall rating (~3.6)\n",
    "\n",
    "ratings_by_genre = dict()\n",
    "\n",
    "for elem in genres:\n",
    "    d = dict(zip(df_movies.index,df_movies[elem].values))\n",
    "    df_data['aux'] = df_data['Movie ID'].map(d)\n",
    "    delta = df_data[df_data['aux'] == 'Y']\n",
    "    ratings_by_genre[elem] = list(delta['Rating'].values)\n",
    "    \n",
    "to_plot = []\n",
    "count = 0\n",
    "sig = []\n",
    "\n",
    "#One sample t-test\n",
    "for key in ratings_by_genre.keys():\n",
    "    t,p = stats.ttest_1samp(ratings_by_genre[key],np.mean(df_data['Rating'].values)) \n",
    "    if p < 0.001:\n",
    "        sig.append('Yes')\n",
    "        count += 1\n",
    "    else:\n",
    "        sig.append('No')\n",
    "    to_plot.append(ratings_by_genre[key])\n",
    "\n",
    "means = map(np.mean, to_plot)\n",
    "se = map(stats.sem, to_plot)\n",
    "n_s = map(len, to_plot)"
   ]
  },
  {
   "cell_type": "code",
   "execution_count": 140,
   "metadata": {
    "collapsed": false
   },
   "outputs": [
    {
     "data": {
      "image/png": "[encoded data removed]",
      "text/plain": [
       "<matplotlib.figure.Figure at 0x111883590>"
      ]
     },
     "metadata": {},
     "output_type": "display_data"
    }
   ],
   "source": [
    "x_pos = list(range(1,3*len(genres),3))\n",
    "\n",
    "fig, ax = plt.subplots(figsize = (15, 7.5))\n",
    "plt.plot([-10,100],[np.mean(df_data['Rating'].values)]*2, linewidth = 1, color = 'k', linestyle = '--')\n",
    "plt.bar(x_pos,\n",
    "        # using the data from the mean_values\n",
    "        means, \n",
    "        # with a y-error lines set at variance\n",
    "        yerr=se, \n",
    "        # aligned in the center\n",
    "        align='center',\n",
    "        # with color\n",
    "        color='#FFC222',\n",
    "        # alpha 0.5\n",
    "        alpha=0.5)\n",
    "\n",
    "\n",
    "ax.set_xticks(x_pos)\n",
    "ax.set_xticklabels(genres)\n",
    "plt.xlim(-2,88)\n",
    "plt.ylim(2.5,4.0)\n",
    "plt.xticks(rotation=80)\n",
    "plt.xlabel('Genres')\n",
    "plt.ylabel('Average rating')\n",
    "plt.show()"
   ]
  },
  {
   "cell_type": "code",
   "execution_count": 142,
   "metadata": {
    "collapsed": false
   },
   "outputs": [
    {
     "name": "stdout",
     "output_type": "stream",
     "text": [
      "29 out of 29 genres differ from the overall mean\n"
     ]
    }
   ],
   "source": [
    "print(str(count) + ' out of ' + str(len(sig)) + ' genres differ from the overall mean')"
   ]
  },
  {
   "cell_type": "markdown",
   "metadata": {},
   "source": [
    "The bar plot above (average genre rating +/- standar error), strongly suggests that the genre of a movie affects\n",
    "the rating of that type of movie. In fact, with the 1-sample t-test run on previous steps, it was possible to determine \n",
    "that all of the genres differ from the overall mean(black dashed line).\n",
    "While some genres, like Family, don't differ much from the overal m average rating, other genres, like Game-Show,\n",
    "show much bigger differences.\n",
    "\n",
    "*** Note that for better visualization, the scale of the y-axis goes from 2.5 to 4"
   ]
  },
  {
   "cell_type": "markdown",
   "metadata": {},
   "source": [
    "# Conclusion:\n",
    "After performing this EDA, it can be concluded that factors such as 'User specific bias', 'Year of movie release' and\n",
    "'Movie's Genre' significantly affect the rating of movies, thus, they can potentiality be incorporated into a predictive model for movie preferences and ratings"
   ]
  }
 ],
 "metadata": {
  "kernelspec": {
   "display_name": "Python 2",
   "language": "python",
   "name": "python2"
  },
  "language_info": {
   "codemirror_mode": {
    "name": "ipython",
    "version": 2
   },
   "file_extension": ".py",
   "mimetype": "text/x-python",
   "name": "python",
   "nbconvert_exporter": "python",
   "pygments_lexer": "ipython2",
   "version": "2.7.13"
  }
 },
 "nbformat": 4,
 "nbformat_minor": 0
}
