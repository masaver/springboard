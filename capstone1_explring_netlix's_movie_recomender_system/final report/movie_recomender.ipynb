{
 "cells": [
  {
   "cell_type": "markdown",
   "metadata": {
    "collapsed": true
   },
   "source": [
    "# Capstone Project 1: Exploring Netflix recomender system.\n",
    "In this project, I explored the use of collaborative movie recomender system, using the Netflix Prize data set.\n",
    "I made use of the ALternate least squares and Singular Value Decomposition methods.\n",
    "More information about the data processing and exploratory data analysis i carried out can be found in ht efollowing links:\n",
    "\n",
    "-)Data acquisition, processing and wrangling: \n",
    "https://github.com/masaver/springboard/tree/master/capstone1_explring_netlix's_movie_recomender_system/data%20acquisition%20and%20wrangling\n",
    "\n",
    "-)Exploratory data analysis:\n",
    "https://github.com/masaver/springboard/tree/master/capstone1_explring_netlix's_movie_recomender_system/exploratory%20data%20analysis\n",
    "\n",
    "The complete report for this project can be found at:\n",
    "https://github.com/masaver/springboard/tree/master/capstone1_explring_netlix's_movie_recomender_system/final%20report\n"
   ]
  },
  {
   "cell_type": "markdown",
   "metadata": {},
   "source": [
    "# 0. Loading the libraries that will be needed for this analysis."
   ]
  },
  {
   "cell_type": "code",
   "execution_count": 3,
   "metadata": {
    "collapsed": false
   },
   "outputs": [
    {
     "name": "stdout",
     "output_type": "stream",
     "text": [
      "Populating the interactive namespace from numpy and matplotlib\n"
     ]
    }
   ],
   "source": [
    "%matplotlib inline\n",
    "%precision %.6f\n",
    "%pylab inline\n",
    "\n",
    "#The Alternate Least squares (ALS) method from the MLlib from  pyspark, \n",
    "# will be used for the collaborative filtering model.\n",
    "import findspark\n",
    "findspark.init()\n",
    "from pyspark.sql import SparkSession\n",
    "import pyspark\n",
    "from pyspark.mllib.recommendation import ALS\n",
    "\n",
    "#Numpy, pandas and matplotlib are used for data manipulation and plotting\n",
    "import numpy as np\n",
    "import pandas as pd\n",
    "import matplotlib.pyplot as plt\n",
    "\n",
    "#I also import the mean_squared_error function, which will be used for calculating the RMSE.\n",
    "from sklearn.metrics import mean_squared_error\n",
    "\n",
    "#Time is used for measuring the time required to train the ALS model\n",
    "from time import time\n",
    "\n",
    "#Image & display are used for displayaing a gif animation later.\n",
    "from IPython.display import Image\n",
    "from IPython.display import display"
   ]
  },
  {
   "cell_type": "markdown",
   "metadata": {},
   "source": [
    "# 1. Loading the requiered data.\n",
    "***Trying to analyze the entire NetFlix prize data set on a single computer proved to be too computationally intensive. \n",
    "Instead, I opted to take a random sample ('ratings_subset_plus_biases.csv') of 1 million rating to work with."
   ]
  },
  {
   "cell_type": "code",
   "execution_count": 2,
   "metadata": {
    "collapsed": false
   },
   "outputs": [
    {
     "data": {
      "text/html": [
       "<div>\n",
       "<table border=\"1\" class=\"dataframe\">\n",
       "  <thead>\n",
       "    <tr style=\"text-align: right;\">\n",
       "      <th></th>\n",
       "      <th>User ID</th>\n",
       "      <th>Rating</th>\n",
       "      <th>Date</th>\n",
       "      <th>Movie ID</th>\n",
       "      <th>Year of Release</th>\n",
       "      <th>user_bias</th>\n",
       "      <th>movie_bias</th>\n",
       "      <th>year_bias</th>\n",
       "      <th>genre_bias</th>\n",
       "    </tr>\n",
       "  </thead>\n",
       "  <tbody>\n",
       "    <tr>\n",
       "      <th>0</th>\n",
       "      <td>1789934</td>\n",
       "      <td>4</td>\n",
       "      <td>2002-02-12</td>\n",
       "      <td>9886</td>\n",
       "      <td>1999</td>\n",
       "      <td>0.394528</td>\n",
       "      <td>0.067970</td>\n",
       "      <td>-0.001312</td>\n",
       "      <td>0.023799</td>\n",
       "    </tr>\n",
       "    <tr>\n",
       "      <th>1</th>\n",
       "      <td>2400047</td>\n",
       "      <td>3</td>\n",
       "      <td>2005-11-02</td>\n",
       "      <td>12074</td>\n",
       "      <td>1965</td>\n",
       "      <td>0.394528</td>\n",
       "      <td>0.393205</td>\n",
       "      <td>0.212024</td>\n",
       "      <td>0.066932</td>\n",
       "    </tr>\n",
       "    <tr>\n",
       "      <th>2</th>\n",
       "      <td>1986551</td>\n",
       "      <td>1</td>\n",
       "      <td>2003-05-16</td>\n",
       "      <td>299</td>\n",
       "      <td>2001</td>\n",
       "      <td>-0.405472</td>\n",
       "      <td>0.084883</td>\n",
       "      <td>-0.052638</td>\n",
       "      <td>-0.059922</td>\n",
       "    </tr>\n",
       "    <tr>\n",
       "      <th>3</th>\n",
       "      <td>2000221</td>\n",
       "      <td>3</td>\n",
       "      <td>2005-10-21</td>\n",
       "      <td>4262</td>\n",
       "      <td>1999</td>\n",
       "      <td>-0.105472</td>\n",
       "      <td>-0.055885</td>\n",
       "      <td>-0.001312</td>\n",
       "      <td>-0.098143</td>\n",
       "    </tr>\n",
       "    <tr>\n",
       "      <th>4</th>\n",
       "      <td>849373</td>\n",
       "      <td>3</td>\n",
       "      <td>2005-09-27</td>\n",
       "      <td>17302</td>\n",
       "      <td>1991</td>\n",
       "      <td>-0.105472</td>\n",
       "      <td>0.194528</td>\n",
       "      <td>0.018199</td>\n",
       "      <td>-0.047243</td>\n",
       "    </tr>\n",
       "  </tbody>\n",
       "</table>\n",
       "</div>"
      ],
      "text/plain": [
       "   User ID  Rating        Date  Movie ID  Year of Release  user_bias  \\\n",
       "0  1789934       4  2002-02-12      9886             1999   0.394528   \n",
       "1  2400047       3  2005-11-02     12074             1965   0.394528   \n",
       "2  1986551       1  2003-05-16       299             2001  -0.405472   \n",
       "3  2000221       3  2005-10-21      4262             1999  -0.105472   \n",
       "4   849373       3  2005-09-27     17302             1991  -0.105472   \n",
       "\n",
       "   movie_bias  year_bias  genre_bias  \n",
       "0    0.067970  -0.001312    0.023799  \n",
       "1    0.393205   0.212024    0.066932  \n",
       "2    0.084883  -0.052638   -0.059922  \n",
       "3   -0.055885  -0.001312   -0.098143  \n",
       "4    0.194528   0.018199   -0.047243  "
      ]
     },
     "execution_count": 2,
     "metadata": {},
     "output_type": "execute_result"
    }
   ],
   "source": [
    "# The following part loads the data frame containing the movies name, id, year of release, and genre information\n",
    "df_movies = pd.read_csv('movies_plus_genre_info_2.csv')\n",
    "df_movies.index.name = 'MovieID'\n",
    "df_movies.index = np.arange(1, len(df_movies)+1)\n",
    "\n",
    "#The followin line, load the ratings (subset) dataset\n",
    "df_data = pd.read_csv('ratings_subset_plus_biases.csv')\n",
    "df_data.head()"
   ]
  },
  {
   "cell_type": "markdown",
   "metadata": {},
   "source": [
    "The 'ratings_subset_plus_biases.csv' file also containes user, movie, year and genre specific rating biases, \n",
    "which were calculated previously. For example, the user-specific bias was calculated as the average user rating  minus\n",
    "the average rating of the entire dataset. The other biases were calculated similarly."
   ]
  },
  {
   "cell_type": "markdown",
   "metadata": {},
   "source": [
    "For subsequent analysis, I also need to calculate this biases individually. \n",
    "For that, I grouped the data by user or movie ID. Then, I use custom defined functions, shown below, to determine each bias."
   ]
  },
  {
   "cell_type": "markdown",
   "metadata": {},
   "source": [
    "# 2. Seting up a Spark session & Loading Data."
   ]
  },
  {
   "cell_type": "code",
   "execution_count": 3,
   "metadata": {
    "collapsed": false
   },
   "outputs": [],
   "source": [
    "# Here I'm setting up the spark context\n",
    "conf = (pyspark.SparkConf()\n",
    "         .setMaster(\"local\")\n",
    "         .setAppName(\"My app\")\n",
    "         .set(\"spark.executor.memory\", \"1g\"))\n",
    "sc = pyspark.SparkContext(conf = conf)\n",
    "spark = SparkSession(sc)"
   ]
  },
  {
   "cell_type": "code",
   "execution_count": 4,
   "metadata": {
    "collapsed": false
   },
   "outputs": [
    {
     "data": {
      "text/plain": [
       "Row(User ID=u'1789934', Movie ID=u'9886', Rating=4.0, user_bias=0.39452800154685974, movie_bias=0.06796973198652267, year_bias=-0.0013120227959007025, genre_bias=0.023799005895853043)"
      ]
     },
     "execution_count": 4,
     "metadata": {},
     "output_type": "execute_result"
    }
   ],
   "source": [
    "#Here, I'm loading the ratings csv file and casting the apropiate data types\n",
    "df_rdd = spark.read.csv(\"ratings_subset_plus_biases.csv\", header = True)\n",
    "X=df_rdd.select(df_rdd['User ID'],df_rdd['Movie ID'],df_rdd['Rating'].cast(\"float\"),df_rdd['user_bias'].cast(\"float\"),\n",
    "               df_rdd['movie_bias'].cast(\"float\"), df_rdd['year_bias'].cast(\"float\"), df_rdd['genre_bias'].cast(\"float\"))\n",
    "ratings_rdd_2 = X.rdd\n",
    "ratings_rdd_2.first()"
   ]
  },
  {
   "cell_type": "markdown",
   "metadata": {},
   "source": [
    "# 3. Using the Raw average as ratings predictor\n",
    "\n",
    "Here, the predicted rating for a movie would be the average rating of the entire data set. I also considered the effect of different rating biases. To measure the error, I used the root mean squared error (RMSE)."
   ]
  },
  {
   "cell_type": "code",
   "execution_count": 5,
   "metadata": {
    "collapsed": false
   },
   "outputs": [
    {
     "name": "stdout",
     "output_type": "stream",
     "text": [
      "The baseline RMSE is 1.09\n",
      "The RMSE with user bias is 0.83\n",
      "The RMSE with movie bias is 1.00\n",
      "The RMSE with year of release bias is 1.08\n",
      "The RMSE with genre bias is 1.08\n",
      "The RMSE with user and movie bias is 0.80\n",
      "The RMSE with all biases is 0.82\n"
     ]
    }
   ],
   "source": [
    "meanRating = ratings_rdd_2.map(lambda x: x[2]).collect()\n",
    "mean_rating = np.mean(meanRating)\n",
    "\n",
    "#Raw average alone\n",
    "aux = ratings_rdd_2.map(lambda x: ((mean_rating - x[2])**2)).collect()\n",
    "baseRMSE = np.sqrt(np.mean(aux))\n",
    "\n",
    "#Raw average + User-specific rating bias\n",
    "aux = ratings_rdd_2.map(lambda x: ((mean_rating - x[2] + x[3])**2)).collect()\n",
    "userBiasRMSE = np.sqrt(np.mean(aux))\n",
    "\n",
    "#Raw average + Movie-specific rating bias\n",
    "aux = ratings_rdd_2.map(lambda x: (np.nansum(mean_rating - x[2] + x[4]))**2).collect()\n",
    "movieBiasRMSE = np.sqrt(np.mean(aux))\n",
    "\n",
    "#Raw average + Year_of_release-specific rating bias\n",
    "aux = ratings_rdd_2.map(lambda x: (np.nansum(mean_rating - x[2] + x[5]))**2).collect()\n",
    "yearBiasRMSE = np.sqrt(np.mean(aux))\n",
    "\n",
    "#Raw average + Genre-specific rating bias\n",
    "aux = ratings_rdd_2.map(lambda x: (np.nansum(mean_rating - x[2] + x[6]))**2).collect()\n",
    "genreBiasRMSE = np.sqrt(np.mean(aux))\n",
    "\n",
    "#Raw average + User-specific + Movie-specific rating bias\n",
    "aux = ratings_rdd_2.map(lambda x: ((mean_rating - x[2] + x[3] + x[4])**2)).collect()\n",
    "usermovieBiasRMSE = np.sqrt(np.mean(aux))\n",
    "\n",
    "#Raw average + all biases\n",
    "aux = ratings_rdd_2.map(lambda x: ((mean_rating - x[2] + x[3] + x[4] + x[5] +x[6])**2)).collect()\n",
    "allBiasRMSE = np.sqrt(np.mean(aux))\n",
    "\n",
    "#As a measure of the accuracy of the predictions I used RMSE\n",
    "print(\"The baseline RMSE is %.2f\") % (baseRMSE) \n",
    "print(\"The RMSE with user bias is %.2f\") % (userBiasRMSE) \n",
    "print(\"The RMSE with movie bias is %.2f\") % (movieBiasRMSE) \n",
    "print(\"The RMSE with year of release bias is %.2f\") % (yearBiasRMSE) \n",
    "print(\"The RMSE with genre bias is %.2f\") % (genreBiasRMSE) \n",
    "print(\"The RMSE with user and movie bias is %.2f\") % (usermovieBiasRMSE) \n",
    "print(\"The RMSE with all biases is %.2f\") % (allBiasRMSE) "
   ]
  },
  {
   "cell_type": "code",
   "execution_count": 6,
   "metadata": {
    "collapsed": false
   },
   "outputs": [
    {
     "data": {
      "image/png": "[encoded data removed]",
      "text/plain": [
       "<matplotlib.figure.Figure at 0x1073dd550>"
      ]
     },
     "metadata": {},
     "output_type": "display_data"
    }
   ],
   "source": [
    "rmses = [baseRMSE,userBiasRMSE,movieBiasRMSE,yearBiasRMSE, genreBiasRMSE,usermovieBiasRMSE, allBiasRMSE]\n",
    "x_pos = list(range(1,2*len(rmses),2))\n",
    "color = ['#FF6666', '#FFB266', '#FFFF66','#B2FF66', '#66B2FF', '#6666FF', '#B266FF']\n",
    "labels = ['Base', 'User', 'Movie', 'Year', 'Genre', 'User + Movie', 'All']\n",
    "\n",
    "fig, ax = plt.subplots(figsize = (7.5, 7.5))\n",
    "\n",
    "plt.plot([0,14],[baseRMSE]*2, linewidth = 1, color = 'k', linestyle = '--')\n",
    "plt.bar(x_pos,\n",
    "        # using the data from the mean_values\n",
    "        rmses, \n",
    "        # aligned in the center\n",
    "        align='center',\n",
    "        # with color\n",
    "        color = color,\n",
    "        # transparency\n",
    "        alpha=.75)\n",
    "\n",
    "ax.set_xticks(x_pos)\n",
    "ax.set_xticklabels(labels)\n",
    "plt.ylim(0,1.5)\n",
    "plt.xticks(rotation=75)\n",
    "plt.xlabel('Bias', fontsize = 20)\n",
    "plt.ylabel('Ratings RMSE', fontsize = 20)\n",
    "ax.tick_params(labelsize=15)\n",
    "\n",
    "plt.savefig('raw_avg RMSEs.png', bbox_inches=\"tight\")\n"
   ]
  },
  {
   "cell_type": "markdown",
   "metadata": {},
   "source": [
    "From the plot above we can see that incorporating specific rating biases gives a modest reduction to errors\n",
    "of the predicted ratings. We can see that a user-specific or movie-specific bias give the greatest improvement. However, combining multiple biases (for example User-specific bias + Movie-specific bias) does not further improve the predicted rating."
   ]
  },
  {
   "cell_type": "markdown",
   "metadata": {},
   "source": [
    "# 4. Using alternate least squares (ALS) for rating predictions"
   ]
  },
  {
   "cell_type": "code",
   "execution_count": 8,
   "metadata": {
    "collapsed": false
   },
   "outputs": [
    {
     "data": {
      "text/html": [
       "<img src=\"https://upload.wikimedia.org/wikipedia/commons/5/52/Collaborative_filtering.gif\"/>"
      ],
      "text/plain": [
       "<IPython.core.display.Image object>"
      ]
     },
     "metadata": {},
     "output_type": "display_data"
    }
   ],
   "source": [
    "display(Image(url='https://upload.wikimedia.org/wikipedia/commons/5/52/Collaborative_filtering.gif'))"
   ]
  },
  {
   "cell_type": "markdown",
   "metadata": {},
   "source": [
    "source: https://en.wikipedia.org/wiki/Collaborative_filtering"
   ]
  },
  {
   "cell_type": "markdown",
   "metadata": {},
   "source": [
    "Collaborative filtering (CF) approaches are commonly used in recomender systems.  In the image shown above, we see an example of collaborative filtering, where an unknown rating for a given user is estimated based upon the ratings of similar users. The main idea of the techniques used in CF is to completing the missing entries (ratings) of a sparse users-by-items matrix. One of such techniques, icluded in the pysparl MLlib, is Alternate Least Squares (ALS). In ALS, a number of latent (hidden) factors are used for preciting the missing entries (ratings) in the sparse user-by-movie matrix\n",
    "\n",
    "The ALS model from MLlib has the following parameters:\n",
    "-) numBlocks: is the number of blocks the users and items will be partitioned into in order to parallelize computation (defaults to 10).\n",
    "\n",
    "-)rank: is the number of latent factors in the model (defaults to 10).\n",
    "\n",
    "-)maxIter: is the maximum number of iterations to run (defaults to 10).\n",
    "\n",
    "-)regParam: specifies the regularization parameter in ALS (defaults to 1.0).\n",
    "\n",
    "-)implicitPrefs: specifies whether to use the explicit feedback ALS variant or one adapted for implicit feedback data (defaults to false which means using explicit feedback).\n",
    "\n",
    "-)alpha: is a parameter applicable to the implicit feedback variant of ALS that governs the baseline confidence in preference observations (defaults to 1.0).\n",
    "\n",
    "-)nonnegative: specifies whether or not to use nonnegative constraints for least squares (defaults to false).\n",
    "\n",
    "source:\n",
    "https://en.wikipedia.org/wiki/Collaborative_filtering\n",
    "https://spark.apache.org/docs/2.2.0/ml-collaborative-filtering.html"
   ]
  },
  {
   "cell_type": "markdown",
   "metadata": {},
   "source": [
    "\n",
    "Before implementing the ALS model, I split the data in train and test sets:"
   ]
  },
  {
   "cell_type": "code",
   "execution_count": 5,
   "metadata": {
    "collapsed": false
   },
   "outputs": [
    {
     "data": {
      "text/plain": [
       "PythonRDD[16] at RDD at PythonRDD.scala:48"
      ]
     },
     "execution_count": 5,
     "metadata": {},
     "output_type": "execute_result"
    }
   ],
   "source": [
    "#Here I'm splitting the data into training and test set\n",
    "ratings = ratings_rdd_2.map(lambda x: (x[0],x[1],x[2]))\n",
    "training_RDD, test_RDD = ratings.randomSplit([7,3], seed = 42)\n",
    "test_for_predict_RDD = test_RDD.map(lambda x: (x[0],x[1]))\n",
    "\n",
    "ratings.cache()\n",
    "training_RDD.cache()\n",
    "test_RDD.cache()\n",
    "test_for_predict_RDD.cache()"
   ]
  },
  {
   "cell_type": "markdown",
   "metadata": {},
   "source": [
    "In the following sections I optimize the parameters from the ALS model."
   ]
  },
  {
   "cell_type": "code",
   "execution_count": 8,
   "metadata": {
    "collapsed": false
   },
   "outputs": [
    {
     "name": "stdout",
     "output_type": "stream",
     "text": [
      "For lambda 1.5 the RMSE is 1.79487621682\n",
      "For lambda 1.0 the RMSE is 1.4352733715\n",
      "For lambda 0.75 the RMSE is 1.29247924702\n",
      "For lambda 0.5 the RMSE is 1.19918321508\n",
      "For lambda 0.25 the RMSE is 1.23083481834\n",
      "For lambda 0.1 the RMSE is 1.53345812702\n",
      "For lambda 0.001 the RMSE is 9.65991933807\n",
      "For lambda 0.0001 the RMSE is 15.9803169725\n",
      "The best model was trained with lambda 0.5\n",
      "The total elapsed time was 4.81 min\n"
     ]
    }
   ],
   "source": [
    "#ALS implementation: Optimizing the regularization parameter\n",
    "seed = 42\n",
    "iterations = 10\n",
    "lambdas =[1.5, 1.0, 0.75, 0.5, 0.25, 0.1, 0.001, 0.0001]\n",
    "rank = 10\n",
    "errors_lambda = []\n",
    "\n",
    "min_error = float('inf')\n",
    "best_lambda = -1\n",
    "\n",
    "t0 = time()\n",
    "\n",
    "for L in lambdas:\n",
    "    model = ALS.train(training_RDD, rank, seed=seed, iterations=iterations,lambda_=L)\n",
    "    predictions = model.predictAll(test_for_predict_RDD).map(lambda r: ((r[0], r[1]), r[2]))\n",
    "    rates_and_preds = test_RDD.map(lambda r: ((int(r[0]), int(r[1])), float(r[2]))).join(predictions)\n",
    "    error = math.sqrt(rates_and_preds.map(lambda r: (r[1][0] - r[1][1])**2).mean())\n",
    "    errors_lambda.append(error)\n",
    "\n",
    "    print 'For lambda %s the RMSE is %s' % (L, error)\n",
    "    if error < min_error:\n",
    "        min_error = error\n",
    "        best_lambda = L\n",
    "        \n",
    "tt = time() - t0\n",
    "\n",
    "print 'The best model was trained with lambda %s' % best_lambda\n",
    "print \"The total elapsed time was %s min\" % round(tt/60,2)"
   ]
  },
  {
   "cell_type": "code",
   "execution_count": 263,
   "metadata": {
    "collapsed": false
   },
   "outputs": [
    {
     "data": {
      "image/png": "[encoded data removed]",
      "text/plain": [
       "<matplotlib.figure.Figure at 0x10cd70450>"
      ]
     },
     "metadata": {},
     "output_type": "display_data"
    }
   ],
   "source": [
    "fig, ax = plt.subplots(figsize = (6,6))\n",
    "labels = [1.5,1.5, 1.0, 0.75, 0.5, 0.25, 0.1, 0.001, 0.0001]\n",
    "\n",
    "x_pos = list(range(1,2*len(lambdas),2))\n",
    "color = ['#FF6666', '#FFB266', '#FFFF66','#B266FF']\n",
    "\n",
    "plt.plot(x_pos,errors_lambda, linewidth = 3, color = 'blue', linestyle = '--')\n",
    "\n",
    "ax.set_xticks(x_pos)\n",
    "ax.set_xticklabels(labels)\n",
    "ax.tick_params(labelsize=15)\n",
    "plt.xlabel('Lambda values', fontsize = 20)\n",
    "plt.ylabel('Ratings RMSE', fontsize = 20)\n",
    "plt.title('ALS error: optimization for lambda', fontsize = 20)\n",
    "plt.savefig('optimization for lambda.png')\n",
    "plt.show()"
   ]
  },
  {
   "cell_type": "code",
   "execution_count": 30,
   "metadata": {
    "collapsed": false
   },
   "outputs": [
    {
     "name": "stdout",
     "output_type": "stream",
     "text": [
      "For 2 iterations the RMSE is 3.87303790222\n",
      "For 4 iterations the RMSE is 1.95939926278\n",
      "For 6 iterations the RMSE is 1.29212928478\n",
      "For 8 iterations the RMSE is 1.21532353379\n",
      "For 10 iterations the RMSE is 1.19918321508\n",
      "For 12 iterations the RMSE is 1.19382397381\n",
      "For 14 iterations the RMSE is 1.19158192249\n",
      "For 16 iterations the RMSE is 1.19050019366\n",
      "For 18 iterations the RMSE is 1.18991930842\n",
      "For 20 iterations the RMSE is 1.18957818866\n",
      "The best model was trained 20 interations\n",
      "The total elapsed time was 5.45 min\n"
     ]
    }
   ],
   "source": [
    "#Implement  ALS model from MLlib: Optimizing the number of iterations\n",
    "seed = 42\n",
    "iterations = [2, 4, 6, 8, 10, 12, 14, 16, 18, 20]\n",
    "regularization_parameter = 0.5\n",
    "ranks = 10\n",
    "errors_iteration = []\n",
    "err = 0\n",
    "\n",
    "min_error = float('inf')\n",
    "best_rank = -1\n",
    "best_iteration = -1\n",
    "\n",
    "t0 = time()\n",
    "\n",
    "for iteration in iterations:\n",
    "    model = ALS.train(training_RDD, rank, seed=seed, iterations=iteration,\n",
    "                      lambda_=regularization_parameter)\n",
    "    predictions = model.predictAll(test_for_predict_RDD).map(lambda r: ((r[0], r[1]), r[2]))\n",
    "    rates_and_preds = test_RDD.map(lambda r: ((int(r[0]), int(r[1])), float(r[2]))).join(predictions)\n",
    "    error = math.sqrt(rates_and_preds.map(lambda r: (r[1][0] - r[1][1])**2).mean())\n",
    "    errors_iteration.append(error)\n",
    "    err += 1\n",
    "    print 'For %s iterations the RMSE is %s' % (iteration, error)\n",
    "    if error < min_error:\n",
    "        min_error = error\n",
    "        best_iteration = iteration\n",
    "        \n",
    "print 'The best model was trained %s interations' % best_iteration\n",
    "print \"The total elapsed time was %s min\" % round(tt/60,2)"
   ]
  },
  {
   "cell_type": "code",
   "execution_count": 265,
   "metadata": {
    "collapsed": false
   },
   "outputs": [
    {
     "data": {
      "image/png": "[encoded data removed]",
      "text/plain": [
       "<matplotlib.figure.Figure at 0x109fb6110>"
      ]
     },
     "metadata": {},
     "output_type": "display_data"
    }
   ],
   "source": [
    "fig, ax = plt.subplots(figsize = (6,6))\n",
    "labels = [2, 4, 6, 8, 10, 12, 14, 16, 18, 20]\n",
    "\n",
    "x_pos = list(range(1,2*len(labels),2))\n",
    "color = ['#FF6666', '#FFB266', '#FFFF66','#B266FF']\n",
    "\n",
    "plt.plot(x_pos,errors_iteration, linewidth = 3, color = 'blue', linestyle = '--')\n",
    "\n",
    "ax.set_xticks(x_pos)\n",
    "ax.set_xticklabels(labels)\n",
    "ax.tick_params(labelsize=15)\n",
    "plt.xlabel('Number of iterations', fontsize = 20)\n",
    "plt.ylabel('Ratings RMSE', fontsize = 20)\n",
    "plt.title('ALS error: optimization for interations', fontsize = 20)\n",
    "plt.savefig('optimization for iterations.png')\n",
    "\n",
    "plt.show()"
   ]
  },
  {
   "cell_type": "markdown",
   "metadata": {},
   "source": [
    "* The RMSE doesn't seem to significantly decrease after 8 iterations. Hence, I'll take 8 as the optimal number of iterations."
   ]
  },
  {
   "cell_type": "code",
   "execution_count": 252,
   "metadata": {
    "collapsed": false
   },
   "outputs": [
    {
     "name": "stdout",
     "output_type": "stream",
     "text": [
      "For rank 4 the RMSE is 1.21554120288\n",
      "For rank 8 the RMSE is 1.21134167436\n",
      "For rank 10 the RMSE is 1.21532353379\n",
      "For rank 25 the RMSE is 1.21200920604\n",
      "For rank 50 the RMSE is 1.21127324283\n",
      "The best model was trained with rank 50\n",
      "The total elapsed time was 4.33 min\n"
     ]
    }
   ],
   "source": [
    "#Implement  ALS model from MLlib: Optimizing the number of ranks\n",
    "seed = 42\n",
    "iterations = 8\n",
    "regularization_parameter = 0.5\n",
    "ranks = [4, 8, 10, 25, 50]\n",
    "errors_rank = []\n",
    "\n",
    "min_error = float('inf')\n",
    "best_rank = -1\n",
    "\n",
    "t0 = time()\n",
    "\n",
    "for rank in ranks:\n",
    "    model = ALS.train(training_RDD, rank, seed=seed, iterations=iterations,\n",
    "                      lambda_=regularization_parameter)\n",
    "    predictions = model.predictAll(test_for_predict_RDD).map(lambda r: ((r[0], r[1]), r[2]))\n",
    "    rates_and_preds = test_RDD.map(lambda r: ((int(r[0]), int(r[1])), float(r[2]))).join(predictions)\n",
    "    error = math.sqrt(rates_and_preds.map(lambda r: (r[1][0] - r[1][1])**2).mean())\n",
    "    errors_rank.append(error)\n",
    "\n",
    "    print 'For rank %s the RMSE is %s' % (rank, error)\n",
    "    if error < min_error:\n",
    "        min_error = error\n",
    "        best_rank = rank\n",
    "\n",
    "tt = time() - t0\n",
    "\n",
    "print 'The best model was trained with rank %s' % best_rank\n",
    "print \"The total elapsed time was %s min\" % round(tt/60,2)"
   ]
  },
  {
   "cell_type": "code",
   "execution_count": 266,
   "metadata": {
    "collapsed": false
   },
   "outputs": [
    {
     "data": {
      "image/png": "[encoded data removed]",
      "text/plain": [
       "<matplotlib.figure.Figure at 0x10bdd4c90>"
      ]
     },
     "metadata": {},
     "output_type": "display_data"
    }
   ],
   "source": [
    "fig, ax = plt.subplots(figsize = (6,6))\n",
    "labels = [4, 8, 10, 25, 50]\n",
    "\n",
    "x_pos = list(range(1,2*len(labels),2))\n",
    "color = ['#FF6666', '#FFB266', '#FFFF66','#B266FF']\n",
    "\n",
    "plt.plot(x_pos,errors_rank, linewidth = 3, color = 'blue', linestyle = '--')\n",
    "\n",
    "ax.set_xticks(x_pos)\n",
    "ax.set_xticklabels(labels)\n",
    "ax.tick_params(labelsize=15)\n",
    "plt.xlabel('Number of Ranks', fontsize = 20)\n",
    "plt.ylabel('Ratings RMSE', fontsize = 20)\n",
    "plt.title('ALS error: optimization for ranks', fontsize = 20)\n",
    "plt.savefig('optimization for ranks.png')\n",
    "\n",
    "plt.show()"
   ]
  },
  {
   "cell_type": "markdown",
   "metadata": {},
   "source": [
    "* The RMSE value doesn't seem to differ too much when using 8 or 50 ranks. Therefore, I will take 8 as the optimal number of ranks."
   ]
  },
  {
   "cell_type": "markdown",
   "metadata": {
    "collapsed": false
   },
   "source": [
    "## The best parameters resulted to be: \n",
    "    Ranks = 8\n",
    "    iterations = 8\n",
    "    regulariztion parameter = 0.5"
   ]
  },
  {
   "cell_type": "markdown",
   "metadata": {},
   "source": [
    "In some of the following calculations, I will use the following user-defined functions to calculate user and movie specific biases. This functions requiere the data frame with the ratings to be grouped by \"user id\" or \"movie id\""
   ]
  },
  {
   "cell_type": "code",
   "execution_count": 6,
   "metadata": {
    "collapsed": true
   },
   "outputs": [],
   "source": [
    "overall_mean = np.mean(df_data['Rating'].values)\n",
    "rating_by_user = df_data.groupby('User ID').mean()\n",
    "rating_by_movie = df_data.groupby('Movie ID').mean()\n",
    "\n",
    "def user_bias(user_id):\n",
    "    user_id = int(user_id)\n",
    "    bias = rating_by_user.loc[user_id,'Rating'] - overall_mean\n",
    "    return bias\n",
    "\n",
    "def movie_bias(movie_id):\n",
    "    movie_id = int(movie_id)\n",
    "    bias = rating_by_movie.loc[movie_id,'Rating'] - overall_mean\n",
    "    return bias"
   ]
  },
  {
   "cell_type": "code",
   "execution_count": 10,
   "metadata": {
    "collapsed": false
   },
   "outputs": [
    {
     "data": {
      "text/plain": [
       "[(u'1789934', u'9886', 4.000000),\n",
       " (u'2400047', u'12074', 3.000000),\n",
       " (u'1986551', u'299', 1.000000)]"
      ]
     },
     "execution_count": 10,
     "metadata": {},
     "output_type": "execute_result"
    }
   ],
   "source": [
    "training_RDD.take(3)\n"
   ]
  },
  {
   "cell_type": "markdown",
   "metadata": {},
   "source": [
    "After I determined the optimal hyperparameters, I realized that the predicted ratings contained values higher than 5 and lower than 1. That is, ratings that are lower than 1 Stars or higher than 5 Stars, which arethe limits of the netflix rating scale.To account for that, i wrote the following function to set any ratings higher than 5 to 5 and any ratings lower than 1 to 1."
   ]
  },
  {
   "cell_type": "code",
   "execution_count": 7,
   "metadata": {
    "collapsed": true
   },
   "outputs": [],
   "source": [
    "def adjust_rating(x):\n",
    "    if x<1:\n",
    "        result = 1\n",
    "    elif x>5:\n",
    "        result = 5\n",
    "    else:\n",
    "        result = x\n",
    "    return result"
   ]
  },
  {
   "cell_type": "markdown",
   "metadata": {
    "collapsed": false
   },
   "source": [
    "Next, I proceed to implement the ALS model using the optimal hyperparameters"
   ]
  },
  {
   "cell_type": "code",
   "execution_count": 8,
   "metadata": {
    "collapsed": false
   },
   "outputs": [
    {
     "name": "stdout",
     "output_type": "stream",
     "text": [
      "The total elapsed time was 0.49 min\n"
     ]
    }
   ],
   "source": [
    "#Implement  ALS model from MLlib with optimal hyperparameters\n",
    "seed = 42\n",
    "iterations = 8\n",
    "regularization_parameter = 0.5\n",
    "rank = 8\n",
    "errors = []\n",
    "\n",
    "t0 = time()\n",
    "\n",
    "model = ALS.train(training_RDD, rank, seed=seed, iterations=iterations,lambda_=regularization_parameter)\n",
    "\n",
    "predictions = model.predictAll(test_for_predict_RDD).map(lambda r: ((r[0], r[1]), r[2]))\n",
    "\n",
    "rates_and_preds = test_RDD.map(lambda r: ((int(r[0]), int(r[1])), float(r[2]))).join(predictions)\n",
    "rates_and_preds = rates_and_preds.map(lambda x:(x[0],(x[1][0],adjust_rating(x[1][1]))))\n",
    "\n",
    "tt = time() - t0\n",
    "\n",
    "print \"The total elapsed time was %s min\" % round(tt/60,2)"
   ]
  },
  {
   "cell_type": "code",
   "execution_count": 42,
   "metadata": {
    "collapsed": true
   },
   "outputs": [],
   "source": [
    "#Next, I proceeed to adjust the rating predictions based on the specific user and movie biases\n",
    "\n",
    "rates_and_preds_user_adj = rates_and_preds\\\n",
    ".map(lambda x: ((x[0][0],x[0][1]),(x[1][0],x[1][0]+user_bias(x[0][0]))))\\\n",
    ".map(lambda x:(x[0],(x[1][0],adjust_rating(x[1][1]))))\n",
    "\n",
    "rates_and_preds_movie_adj = rates_and_preds\\\n",
    ".map(lambda x: ((x[0][0],x[0][1]),(x[1][0],x[1][0]+movie_bias(x[0][1]))))\\\n",
    ".map(lambda x:(x[0],(x[1][0],adjust_rating(x[1][1]))))\n",
    "\n",
    "rates_and_preds_adj = rates_and_preds\\\n",
    ".map(lambda x: ((x[0][0],x[0][1]),(x[1][0],x[1][0]+user_bias(x[0][0])+movie_bias(x[0][1]))))\\\n",
    ".map(lambda x:(x[0],(x[1][0],adjust_rating(x[1][1]))))"
   ]
  },
  {
   "cell_type": "markdown",
   "metadata": {},
   "source": [
    "The format of the elements in the ratings and predictions RDDs is the following:\n",
    "    ((User ID, Movie ID),(Actual Rating, Predicted Rating))\n",
    "\n",
    "For example:"
   ]
  },
  {
   "cell_type": "code",
   "execution_count": 47,
   "metadata": {
    "collapsed": false
   },
   "outputs": [
    {
     "name": "stdout",
     "output_type": "stream",
     "text": [
      "((1435594, 12694), (3.0, 2.883369650063927))\n"
     ]
    }
   ],
   "source": [
    "print(rates_and_preds.collect()[111])"
   ]
  },
  {
   "cell_type": "code",
   "execution_count": 43,
   "metadata": {
    "collapsed": true
   },
   "outputs": [],
   "source": [
    "#And now we calculate the errors for this different predictions. For that we use RMSE.\n",
    "error = math.sqrt(rates_and_preds.map(lambda r: (r[1][0] - r[1][1])**2).mean())\n",
    "error_user_adj = math.sqrt(rates_and_preds_user_adj.map(lambda r: (r[1][0] - r[1][1])**2).mean())\n",
    "error_movie_adj = math.sqrt(rates_and_preds_movie_adj.map(lambda r: (r[1][0] - r[1][1])**2).mean())\n",
    "error_adj = math.sqrt(rates_and_preds_adj.map(lambda r: (r[1][0] - r[1][1])**2).mean())"
   ]
  },
  {
   "cell_type": "code",
   "execution_count": 269,
   "metadata": {
    "collapsed": false
   },
   "outputs": [
    {
     "data": {
      "image/png": "[encoded data removed]",
      "text/plain": [
       "<matplotlib.figure.Figure at 0x109b9a150>"
      ]
     },
     "metadata": {},
     "output_type": "display_data"
    }
   ],
   "source": [
    "rmses = [error,error_user_adj,error_movie_adj,error_adj]\n",
    "x_pos = list(range(1,2*len(rmses),2))\n",
    "color = ['#FF6666', '#FFB266', '#FFFF66','#B266FF']\n",
    "labels = ['Base', 'User adjusted', 'Movie adjusted', 'User+Movie adjusted']\n",
    "\n",
    "fig, ax = plt.subplots(figsize = (7.5, 7.5))\n",
    "\n",
    "plt.plot([0,14],[error]*2, linewidth = 1, color = 'k', linestyle = '--')\n",
    "plt.bar(x_pos,\n",
    "        # using the data from the mean_values\n",
    "        rmses, \n",
    "        # aligned in the center\n",
    "        align='center',\n",
    "        # with color\n",
    "        color = color,\n",
    "        # transparency\n",
    "        alpha=.75)\n",
    "\n",
    "ax.set_xticks(x_pos)\n",
    "ax.set_xticklabels(labels)\n",
    "plt.xlim(0,8)\n",
    "plt.ylim(0,1.5)\n",
    "plt.xticks(rotation=75)\n",
    "plt.xlabel('ALS models', fontsize = 20)\n",
    "plt.ylabel('Ratings RMSE', fontsize = 20)\n",
    "ax.tick_params(labelsize=15)\n",
    "plt.savefig('ALS_RMSEs.png', bbox_inches=\"tight\")\n",
    "plt.show()"
   ]
  },
  {
   "cell_type": "markdown",
   "metadata": {},
   "source": [
    "We can see from the plot shown above that we obtain a lower error in ratings prediction, when we adjust the predictions from our ALS model using the user and movie specific rating bias alone. Hence, for generating movie predictions I will only take into account the movie-specific bias."
   ]
  },
  {
   "cell_type": "markdown",
   "metadata": {},
   "source": [
    "To make recomendations, we can start with a list of movie ratings for a new user (not included in the original dataset). For example:"
   ]
  },
  {
   "cell_type": "code",
   "execution_count": 9,
   "metadata": {
    "collapsed": true
   },
   "outputs": [],
   "source": [
    "#New user (\"0\"), list of movie ratings\n",
    "\n",
    "new_ratings = [\n",
    "    (0,14941,4),# The Matrix\n",
    "    (0,14928,4),# Dead Poets Society\n",
    "    (0,5344,5),# Fullmetal Alchemist\n",
    "    (0,10463,4),# Pokemon: The First Movie\n",
    "    (0,10453,4),# Pokemon Advanced\n",
    "    (0,5732,4),# Good Will Hunting\n",
    "    (0,15096,5),# The Notebook\n",
    "    (0,17132,5),# Waking Life\n",
    "    (0,11763,3),# Serendipity\n",
    "    (0,178,5) #A Beautiful Mind\n",
    "]"
   ]
  },
  {
   "cell_type": "markdown",
   "metadata": {},
   "source": [
    "Next, we have to incroporate those ratings to our datasets and retrain our model:"
   ]
  },
  {
   "cell_type": "code",
   "execution_count": 10,
   "metadata": {
    "collapsed": false
   },
   "outputs": [
    {
     "name": "stdout",
     "output_type": "stream",
     "text": [
      "New user ratings: [(0, 14941, 4), (0, 14928, 4), (0, 5344, 5), (0, 10463, 4), (0, 10453, 4), (0, 5732, 4), (0, 15096, 5), (0, 17132, 5), (0, 11763, 3), (0, 178, 5)]\n"
     ]
    }
   ],
   "source": [
    "new_user_ratings_RDD = sc.parallelize(new_ratings)\n",
    "print 'New user ratings: %s' % new_user_ratings_RDD.collect()\n",
    "ratings_updated = ratings.union(new_user_ratings_RDD)\n",
    "\n",
    "#I will also update the dataframe i use to calculate the biases\n",
    "c = 0\n",
    "for elem in new_ratings:\n",
    "    x,y,z=elem\n",
    "    df_data.loc[999999+c] = [x,z,np.nan,y,np.nan,np.nan,np.nan,np.nan,np.nan]\n",
    "    c += 1\n",
    "\n",
    "overall_mean = np.mean(df_data['Rating'].values)\n",
    "rating_by_movie = df_data.groupby('Movie ID').mean()\n",
    "\n",
    "\n",
    "def ratings_count(x):\n",
    "    count = np.sum(df_data['Movie ID'] == x)\n",
    "    return count"
   ]
  },
  {
   "cell_type": "code",
   "execution_count": 11,
   "metadata": {
    "collapsed": false
   },
   "outputs": [
    {
     "name": "stdout",
     "output_type": "stream",
     "text": [
      "The total elapsed time to train the new model was 0.4 min\n"
     ]
    }
   ],
   "source": [
    "#Now we can proceed to train the new model with the updated set of ratings:\n",
    "seed = 42\n",
    "iterations = 8\n",
    "regularization_parameter = 0.5\n",
    "rank = 8\n",
    "\n",
    "t0 = time()\n",
    "model_updated = ALS.train(ratings_updated, rank, seed=seed, iterations=iterations,lambda_=regularization_parameter)\n",
    "tt = time() - t0\n",
    "\n",
    "print \"The total elapsed time to train the new model was %s min\" % round(tt/60,2)"
   ]
  },
  {
   "cell_type": "code",
   "execution_count": 12,
   "metadata": {
    "collapsed": false
   },
   "outputs": [],
   "source": [
    "#To make and show recomendations for the new user, I used the following two functions\n",
    "\n",
    "def make_predictions(new_ratings,data_frame):\n",
    "    ## This function creates a list of movie predictions\n",
    "    \n",
    "    #new_ratings: the list of predicted movie ratings for the new user\n",
    "     \n",
    "    user_id,movie_id,rating = zip(*new_ratings)\n",
    "    list_of_users = list(set(data_frame['User ID'].values))\n",
    "    list_of_movies = list(set(data_frame['Movie ID'].values))\n",
    "    movies_to_predict = [x for x in list_of_movies if x not in movie_id]\n",
    "    to_predict = zip([0]*len(movies_to_predict),movies_to_predict)\n",
    "    to_predict = sc.parallelize(to_predict)\n",
    "    \n",
    "    #Predictions of the updated model\n",
    "    predictions_adj = model_updated.predictAll(to_predict).map(lambda x: ((x[0], x[1]), x[2]))\\\n",
    "    .map(lambda x: (x[0],x[1]+movie_bias(x[0][1])))\\\n",
    "    .map(lambda x: (x[0],adjust_rating(x[1])))\n",
    "    \n",
    "    #Return the predicted ratings\n",
    "    user_movie_id,rating = zip(*predictions_adj.collect())\n",
    "    \n",
    "    return user_movie_id, rating\n",
    "\n",
    "def get_top_ratings(min_rating,min_review,number_to_show,user_movie_id, rating):\n",
    "    ## This function prints the \n",
    "    #min_rating: minimum rating for a movie to be recomended\n",
    "    #min_reviews: minimum number of reviews for a movie to be recomended\n",
    "    #number_to_show: number of recomendations to show\n",
    "    #user_movie_id: list of (user_id,movie_id) tuples\n",
    "    #rating: list of ratings\n",
    "    \n",
    "    movie_r = []\n",
    "    ratings_r =[]\n",
    "    for i in range(len(rating)):\n",
    "        if rating[i] >= min_rating and np.sum(df_data['Movie ID'] == user_movie_id[i][1]) >= min_review:\n",
    "            movie_r.append(user_movie_id[i][1])\n",
    "            ratings_r.append(rating[i])\n",
    "    \n",
    "    to_show = np.random.choice(len(ratings_r), number_to_show, replace = False).tolist()\n",
    "    for i in to_show:\n",
    "        print  \"%s. Predicted rating: %s Stars\" % (df_movies.loc[movie_r[i],'Name'],ratings_r[i])\n",
    "    \n",
    "    return movie_r, ratings_r"
   ]
  },
  {
   "cell_type": "markdown",
   "metadata": {},
   "source": [
    "Now we can use our updated model to make predictions for the new user. I will consider that any movie with a rating of 4.5 Stars or more should be recomended to the user. Here, we will print a sample of 20 recomended movies, with a rating of at least 4.5 Stars and a minimum number of reviews of 20."
   ]
  },
  {
   "cell_type": "code",
   "execution_count": 13,
   "metadata": {
    "collapsed": false
   },
   "outputs": [
    {
     "name": "stdout",
     "output_type": "stream",
     "text": [
      "Sample list of recomended movies: \n",
      " \n",
      "The Work of Director Spike Jonze. Predicted rating: 4.71139164804 Stars\n",
      "The Princess Bride. Predicted rating: 4.76002170012 Stars\n",
      "Finding Nemo (Full-screen). Predicted rating: 4.9641359762 Stars\n",
      "Gone with the Wind: Collector's Edition. Predicted rating: 4.60965018893 Stars\n",
      "Rear Window. Predicted rating: 4.79500050874 Stars\n",
      "As Time Goes By: Series 4. Predicted rating: 4.80972476584 Stars\n",
      "Million Dollar Baby. Predicted rating: 4.64580944925 Stars\n",
      "Bill Cosby: Himself. Predicted rating: 4.66366787817 Stars\n",
      "Best of The Muppet Show: Peter Sellers / John Cleese / Dudley Moore. Predicted rating: 4.56483548539 Stars\n",
      "South Park: Season 3. Predicted rating: 4.53111310575 Stars\n",
      "Star Wars: Episode V: The Empire Strikes Back. Predicted rating: 5 Stars\n",
      "Dr. Strangelove. Predicted rating: 4.54194588459 Stars\n",
      "Something the Lord Made. Predicted rating: 4.93464786053 Stars\n",
      "Buffy the Vampire Slayer: Season 2. Predicted rating: 5 Stars\n",
      "The Sixth Sense. Predicted rating: 4.79087763398 Stars\n",
      "Forrest Gump. Predicted rating: 4.57764333843 Stars\n",
      "The Wizard of Oz: Collector's Edition. Predicted rating: 4.5526786629 Stars\n",
      "Lord of the Rings: The Two Towers. Predicted rating: 5 Stars\n",
      "The Blues Brothers: Extended Cut. Predicted rating: 4.99250491398 Stars\n",
      "CSI: Season 3. Predicted rating: 5 Stars\n",
      " \n",
      "Total number of recomended movies: 419\n",
      "Elapsed time: 0.31 min\n"
     ]
    }
   ],
   "source": [
    "t0 = time()\n",
    "\n",
    "print(\"Sample list of recomended movies: \")\n",
    "print(\" \")\n",
    "user_movie_id, rating = make_predictions(new_ratings,df_data)\n",
    "movie_r, ratings_r = get_top_ratings(4.5,20,20,user_movie_id, rating)\n",
    "\n",
    "tt = time() - t0\n",
    "print(\" \")\n",
    "print \"Total number of recomended movies: %s\" % len(ratings_r)\n",
    "print \"Elapsed time: %s min\" % round(tt/60,2)"
   ]
  },
  {
   "cell_type": "markdown",
   "metadata": {},
   "source": [
    "From this sample of recomended movies, out of a total of 419 recomendations for the new user, we can see that there is some consistency in the type of movies being recomended, with respect to the original list of ratings for the new user. For example, if you liked \"The Matrix\" you might be likely to also like \"Lord of the rings\", or if you liked \"A Beautiful mind\" and \"Good Will Hunting\" you might be likely to also like \"Forrest Gump\".\n"
   ]
  },
  {
   "cell_type": "markdown",
   "metadata": {},
   "source": [
    "# 5. How general are the results previously shown ?.\n",
    "\n",
    "Given that the ALS model is being constructed with only a subset of the original ratings, one could ask how general are the results that were just described. To answer this, I created 10 random samples from the original DataSet, each containing 1 million ratings. For each of this samples an ALS model was created, and also calculated the respective errors."
   ]
  },
  {
   "cell_type": "code",
   "execution_count": 14,
   "metadata": {
    "collapsed": true
   },
   "outputs": [],
   "source": [
    "names = ['split1','split2', 'split3', 'split4', 'split5', 'split6', 'split7', 'split8', 'split9', 'split10']"
   ]
  },
  {
   "cell_type": "code",
   "execution_count": 13,
   "metadata": {
    "collapsed": false
   },
   "outputs": [
    {
     "name": "stdout",
     "output_type": "stream",
     "text": [
      "The total elapsed time was 3.49 min\n",
      "The total elapsed time was 3.48 min\n",
      "The total elapsed time was 3.5 min\n",
      "The total elapsed time was 3.55 min\n",
      "The total elapsed time was 4.17 min\n",
      "The total elapsed time was 3.58 min\n",
      "The total elapsed time was 3.48 min\n",
      "The total elapsed time was 3.53 min\n",
      "The total elapsed time was 4.01 min\n",
      "The total elapsed time was 4.56 min\n"
     ]
    }
   ],
   "source": [
    "\n",
    "all_global_means = []\n",
    "all_errors = []\n",
    "times =[]\n",
    "\n",
    "for i in range(len(names)):\n",
    "    t0 = time()\n",
    "\n",
    "    df = pd.read_csv(names[i]+'.csv')\n",
    "    rating_by_movie = df.groupby('Movie ID').mean()\n",
    "    rating_by_user = df.groupby('User ID').mean()\n",
    "    overall_mean = np.mean(df['Rating'].values)\n",
    "    \n",
    "    all_global_means.append(overall_mean)\n",
    "    \n",
    "    df_rdd = spark.read.csv(names[i]+'.csv', header = True)\n",
    "    X=df_rdd.select(df_rdd['User ID'],df_rdd['Movie ID'],df_rdd['Rating'].cast(\"float\"))\n",
    "    ratings_rdd_2 = X.rdd\n",
    "    \n",
    "    #Here I'm splitting the data into training and test set\n",
    "    ratings = ratings_rdd_2.map(lambda x: (x[0],x[1],x[2]))\n",
    "    training_RDD, test_RDD = ratings.randomSplit([7,3], seed = 42)\n",
    "    test_for_predict_RDD = test_RDD.map(lambda x: (x[0],x[1]))\n",
    "    ratings.cache()\n",
    "    training_RDD.cache()\n",
    "    test_RDD.cache()\n",
    "    test_for_predict_RDD.cache()\n",
    "    \n",
    "    #Implement  ALS model from MLlib with optimal hyperparameters\n",
    "    seed = 42\n",
    "    iterations = 8\n",
    "    regularization_parameter = 0.5\n",
    "    rank = 8\n",
    "    errors = []\n",
    "    \n",
    "    model = ALS.train(training_RDD, rank, seed=seed, iterations=iterations,lambda_=regularization_parameter)\n",
    "    predictions = model.predictAll(test_for_predict_RDD).map(lambda r: ((r[0], r[1]), r[2]))\n",
    "    rates_and_preds = test_RDD.map(lambda r: ((int(r[0]), int(r[1])), float(r[2]))).join(predictions)\n",
    "    rates_and_preds = rates_and_preds.map(lambda x:(x[0],(x[1][0],adjust_rating(x[1][1]))))\n",
    "        \n",
    "    #Next, I proceeed to adjust the rating predictions based on the specific user and movie biases\n",
    "    rates_and_preds_user_adj = rates_and_preds\\\n",
    "    .map(lambda x: ((x[0][0],x[0][1]),(x[1][0],x[1][0]+user_bias(x[0][0]))))\\\n",
    "    .map(lambda x:(x[0],(x[1][0],adjust_rating(x[1][1]))))\n",
    "    \n",
    "    rates_and_preds_movie_adj = rates_and_preds\\\n",
    "    .map(lambda x: ((x[0][0],x[0][1]),(x[1][0],x[1][0]+movie_bias(x[0][1]))))\\\n",
    "    .map(lambda x:(x[0],(x[1][0],adjust_rating(x[1][1]))))\n",
    "    \n",
    "    rates_and_preds_adj = rates_and_preds\\\n",
    "    .map(lambda x: ((x[0][0],x[0][1]),(x[1][0],x[1][0]+user_bias(x[0][0])+movie_bias(x[0][1]))))\\\n",
    "    .map(lambda x:(x[0],(x[1][0],adjust_rating(x[1][1]))))\n",
    "    \n",
    "    #And now we calculate the errors for this different predictions. For that we use RMSE.\n",
    "    error = math.sqrt(rates_and_preds.map(lambda r: (r[1][0] - r[1][1])**2).mean())\n",
    "    error_user_adj = math.sqrt(rates_and_preds_user_adj.map(lambda r: (r[1][0] - r[1][1])**2).mean())\n",
    "    error_movie_adj = math.sqrt(rates_and_preds_movie_adj.map(lambda r: (r[1][0] - r[1][1])**2).mean())\n",
    "    error_adj = math.sqrt(rates_and_preds_adj.map(lambda r: (r[1][0] - r[1][1])**2).mean())\n",
    "    \n",
    "    all_errors.append((error,error_user_adj,error_movie_adj,error_adj))\n",
    "        \n",
    "    tt = time() - t0\n",
    "    times.append(tt)\n",
    "    \n",
    "    print \"The total elapsed time was %s min\" % round(tt/60,2)\n",
    "  "
   ]
  },
  {
   "cell_type": "code",
   "execution_count": 19,
   "metadata": {
    "collapsed": false
   },
   "outputs": [],
   "source": [
    "base = [x[0] for x in all_errors]\n",
    "user_adj = [x[1] for x in all_errors]\n",
    "movie_adj = [x[2] for x in all_errors]\n",
    "adj = [x[3] for x in all_errors]"
   ]
  },
  {
   "cell_type": "code",
   "execution_count": 28,
   "metadata": {
    "collapsed": false
   },
   "outputs": [],
   "source": [
    "data = [base, user_adj, movie_adj, adj]"
   ]
  },
  {
   "cell_type": "code",
   "execution_count": 42,
   "metadata": {
    "collapsed": false
   },
   "outputs": [
    {
     "data": {
      "image/png": "[encoded data removed]",
      "text/plain": [
       "<matplotlib.figure.Figure at 0x10e14e0d0>"
      ]
     },
     "metadata": {},
     "output_type": "display_data"
    }
   ],
   "source": [
    "labels = ['Base', 'User adjusted', 'Movie adjusted', 'User+Movie adjusted']\n",
    "\n",
    "fig, ax = plt.subplots(figsize = (6,6))\n",
    "plt.boxplot(rmses)\n",
    "ax.set_xticklabels(labels)\n",
    "plt.xticks(rotation=75)\n",
    "plt.xlabel('ALS models', fontsize = 20)\n",
    "plt.ylabel('Ratings RMSE', fontsize = 20)\n",
    "plt.ylim(0,1.5)\n",
    "ax.tick_params(labelsize=15)\n",
    "plt.savefig('ALS_RMSEs_boxplot.png', bbox_inches=\"tight\")\n",
    "plt.show()"
   ]
  },
  {
   "cell_type": "markdown",
   "metadata": {},
   "source": [
    "As expected, the implementation of the ALS model give similar error values for 10 random samples that are just analyzed. This is evidence by the very small (almost non-existent) spread of values in the boxplot above"
   ]
  },
  {
   "cell_type": "markdown",
   "metadata": {},
   "source": [
    "Next, we will take one of the random  sub-sample data sets that we just used, and use it to make some recomendations. We will use the same list of new ratings that we used before."
   ]
  },
  {
   "cell_type": "code",
   "execution_count": 49,
   "metadata": {
    "collapsed": false
   },
   "outputs": [
    {
     "data": {
      "text/plain": [
       "'split5'"
      ]
     },
     "execution_count": 49,
     "metadata": {},
     "output_type": "execute_result"
    }
   ],
   "source": [
    "np.random.choice(names,1).tolist()[0]"
   ]
  },
  {
   "cell_type": "code",
   "execution_count": 15,
   "metadata": {
    "collapsed": false
   },
   "outputs": [
    {
     "name": "stdout",
     "output_type": "stream",
     "text": [
      "The total elapsed time to train the new model was 0.27 min\n",
      "Sample list of recomended movies: \n",
      " \n",
      "Finding Nemo (Widescreen). Predicted rating: 5 Stars\n",
      "Lord of the Rings: The Return of the King. Predicted rating: 5 Stars\n",
      "Star Wars: Episode VI: Return of the Jedi. Predicted rating: 5 Stars\n",
      "As Time Goes By: Series 4. Predicted rating: 5 Stars\n",
      "Buffy the Vampire Slayer: Season 7. Predicted rating: 5 Stars\n",
      "Red Dwarf: Series 4. Predicted rating: 5 Stars\n",
      "Homicide: Life on the Street: Season 4. Predicted rating: 5 Stars\n",
      "The Godfather. Predicted rating: 5 Stars\n",
      "Gilmore Girls: Season 3. Predicted rating: 5 Stars\n",
      "South Park: Season 5. Predicted rating: 5 Stars\n",
      "The Sopranos: Season 1. Predicted rating: 5 Stars\n",
      "CSI: Season 4. Predicted rating: 5 Stars\n",
      "Gladiator: Extended Edition. Predicted rating: 5 Stars\n",
      "Seinfeld: Season 4. Predicted rating: 5 Stars\n",
      "Farscape: The Peacekeeper Wars. Predicted rating: 5 Stars\n",
      "Tokyo Story. Predicted rating: 5 Stars\n",
      "Seinfeld: Season 3. Predicted rating: 5 Stars\n",
      "Law & Order: Season 3. Predicted rating: 5 Stars\n",
      "CSI: Season 3. Predicted rating: 5 Stars\n",
      "The Simpsons: Bart Wars. Predicted rating: 5 Stars\n",
      " \n",
      "Total number of recomended movies: 419\n",
      "Elapsed time: 0.11 min\n"
     ]
    }
   ],
   "source": [
    "t0 = time()\n",
    "\n",
    "#Here Im picking at random one of the original 10 samples from before, and creating the respectives dataframe \n",
    "# and RDDs \n",
    "\n",
    "name = np.random.choice(names,1).tolist()\n",
    "df = pd.read_csv(name[0]+'.csv')\n",
    "del df['Unnamed: 0']\n",
    "c = 0\n",
    "for elem in new_ratings:\n",
    "    x,y,z=elem\n",
    "    df.loc[999999+c] = [x,z,np.nan,y,np.nan,np.nan]\n",
    "    c += 1\n",
    "\n",
    "overall_mean = np.mean(df['Rating'].values)\n",
    "rating_by_movie = df.groupby('Movie ID').mean()\n",
    "    \n",
    "df_rdd = spark.read.csv(name[0]+'.csv', header = True)\n",
    "X=df_rdd.select(df_rdd['User ID'],df_rdd['Movie ID'],df_rdd['Rating'].cast(\"float\"))\n",
    "ratings_rdd_2 = X.rdd\n",
    "new_ratings_RDD = sc.parallelize(new_ratings)\n",
    "ratings_updated = ratings.union(new_user_ratings_RDD)\n",
    "\n",
    "#Now we can proceed to train the new model with the updated set of ratings:\n",
    "seed = 42\n",
    "iterations = 8\n",
    "regularization_parameter = 0.5\n",
    "rank = 8\n",
    "\n",
    "t0 = time()\n",
    "model_updated = ALS.train(ratings_updated, rank, seed=seed, iterations=iterations,lambda_=regularization_parameter)\n",
    "tt = time() - t0\n",
    "\n",
    "print \"The total elapsed time to train the new model was %s min\" % round(tt/60,2)\n",
    "\n",
    "#Finally, we can see which recomendationds we get.\n",
    "#As before, for a movie to be recomended, it should have at least 4.5 Stars as a predicted rating,\n",
    "# and at least 20 ratings.\n",
    "t0 = time()\n",
    "\n",
    "print(\"Sample list of recomended movies: \")\n",
    "print(\" \")\n",
    "user_movie_id, rating = make_predictions(new_ratings,df)\n",
    "movie_r2, ratings_r2 = get_top_ratings(5,20,20,user_movie_id, rating)\n",
    "\n",
    "tt = time() - t0\n",
    "print(\" \")\n",
    "print \"Total number of recomended movies: %s\" % len(ratings_r)\n",
    "print \"Elapsed time: %s min\" % round(tt/60,2)"
   ]
  },
  {
   "cell_type": "markdown",
   "metadata": {},
   "source": [
    " We can see that in both our first and second ALS models, we have a total of 419 movies being recomended, when we consider movies with a 5 Star predicted rating and at least"
   ]
  },
  {
   "cell_type": "code",
   "execution_count": 16,
   "metadata": {
    "collapsed": false
   },
   "outputs": [
    {
     "name": "stdout",
     "output_type": "stream",
     "text": [
      "Percentage of common recomended movies: 82.18\n"
     ]
    }
   ],
   "source": [
    "s1 = set(movie_r)\n",
    "s2 = set(movie_r2)\n",
    "inter = s1.intersection(s2)\n",
    "s = float(len(inter))*100/101\n",
    "print \"Percentage of common recomended movies: %s\" % round(s,2)\n"
   ]
  },
  {
   "cell_type": "markdown",
   "metadata": {},
   "source": [
    "Doing a quick calculation shows there is a 82% overlap in between the movies recomended by the first and second models"
   ]
  },
  {
   "cell_type": "markdown",
   "metadata": {},
   "source": [
    "# 6. Can we obtain similar results/performance by using Singular Value Decomposition (SVD) ?"
   ]
  },
  {
   "cell_type": "markdown",
   "metadata": {},
   "source": [
    "Many other methods can be used to estimate the predicted tating for a specific movie. In Singular Value Decomposition (SVD), for example, we start with a sparse matrix R, containing the available ratings for each movie/user pair. The matrix R can be decomposed  into two unitary matrices, U and V, and a diagonal matrix D, such that R = UDV'. In a general sense, U represents how much users “like” each feature and V' represents how relevant each feature is to each movie. By taking the top k features (rows) of U and V, one can calculate a lower rank aproximation of the original matrix, which is then used for making predictions of movie ratings.\n",
    "\n",
    "source: https://beckernick.github.io/matrix-factorization-recommender/\n",
    "\n",
    "Conviniently, 'Surprise' a python sci-kit for recomender systems, allows to easily implement SVD.\n",
    "\n",
    "source: http://surpriselib.com/"
   ]
  },
  {
   "cell_type": "code",
   "execution_count": 1,
   "metadata": {
    "collapsed": false
   },
   "outputs": [],
   "source": [
    "# First we will import the necessary functions\n",
    "from surprise import SVD\n",
    "from surprise import Reader\n",
    "from surprise import Dataset\n",
    "from surprise import accuracy\n",
    "\n",
    "from surprise.model_selection import cross_validate\n",
    "from surprise.model_selection import train_test_split"
   ]
  },
  {
   "cell_type": "code",
   "execution_count": 5,
   "metadata": {
    "collapsed": false
   },
   "outputs": [
    {
     "data": {
      "text/html": [
       "<div>\n",
       "<table border=\"1\" class=\"dataframe\">\n",
       "  <thead>\n",
       "    <tr style=\"text-align: right;\">\n",
       "      <th></th>\n",
       "      <th>User ID</th>\n",
       "      <th>Movie ID</th>\n",
       "      <th>Rating</th>\n",
       "    </tr>\n",
       "  </thead>\n",
       "  <tbody>\n",
       "    <tr>\n",
       "      <th>0</th>\n",
       "      <td>886454</td>\n",
       "      <td>11837</td>\n",
       "      <td>3</td>\n",
       "    </tr>\n",
       "    <tr>\n",
       "      <th>1</th>\n",
       "      <td>1457260</td>\n",
       "      <td>873</td>\n",
       "      <td>5</td>\n",
       "    </tr>\n",
       "    <tr>\n",
       "      <th>2</th>\n",
       "      <td>922812</td>\n",
       "      <td>3927</td>\n",
       "      <td>5</td>\n",
       "    </tr>\n",
       "    <tr>\n",
       "      <th>3</th>\n",
       "      <td>1582635</td>\n",
       "      <td>7745</td>\n",
       "      <td>4</td>\n",
       "    </tr>\n",
       "    <tr>\n",
       "      <th>4</th>\n",
       "      <td>1366670</td>\n",
       "      <td>14727</td>\n",
       "      <td>4</td>\n",
       "    </tr>\n",
       "  </tbody>\n",
       "</table>\n",
       "</div>"
      ],
      "text/plain": [
       "   User ID  Movie ID  Rating\n",
       "0   886454     11837       3\n",
       "1  1457260       873       5\n",
       "2   922812      3927       5\n",
       "3  1582635      7745       4\n",
       "4  1366670     14727       4"
      ]
     },
     "execution_count": 5,
     "metadata": {},
     "output_type": "execute_result"
    }
   ],
   "source": [
    "#We will use on of the random samples that we used before for ALS\n",
    "df = pd.read_csv('/Users/saverm/Desktop/springboard/capstone 1/final report/untitled folder 2/test.csv')\n",
    "df.head()"
   ]
  },
  {
   "cell_type": "code",
   "execution_count": 6,
   "metadata": {
    "collapsed": false
   },
   "outputs": [
    {
     "data": {
      "text/html": [
       "<div>\n",
       "<table border=\"1\" class=\"dataframe\">\n",
       "  <thead>\n",
       "    <tr style=\"text-align: right;\">\n",
       "      <th></th>\n",
       "      <th>Name</th>\n",
       "      <th>Year</th>\n",
       "      <th>Genres</th>\n",
       "      <th>Sci-Fi</th>\n",
       "      <th>Crime</th>\n",
       "      <th>Romance</th>\n",
       "      <th>Animation</th>\n",
       "      <th>Music</th>\n",
       "      <th>Comedy</th>\n",
       "      <th>War</th>\n",
       "      <th>...</th>\n",
       "      <th>Action</th>\n",
       "      <th>Documentary</th>\n",
       "      <th>Musical</th>\n",
       "      <th>History</th>\n",
       "      <th>Family</th>\n",
       "      <th>Reality-TV</th>\n",
       "      <th>Fantasy</th>\n",
       "      <th>Game-Show</th>\n",
       "      <th>Sport</th>\n",
       "      <th>Biography</th>\n",
       "    </tr>\n",
       "  </thead>\n",
       "  <tbody>\n",
       "    <tr>\n",
       "      <th>0</th>\n",
       "      <td>Dinosaur Planet</td>\n",
       "      <td>2003</td>\n",
       "      <td>Documentary, Animation, Family</td>\n",
       "      <td>N</td>\n",
       "      <td>N</td>\n",
       "      <td>N</td>\n",
       "      <td>Y</td>\n",
       "      <td>N</td>\n",
       "      <td>N</td>\n",
       "      <td>N</td>\n",
       "      <td>...</td>\n",
       "      <td>N</td>\n",
       "      <td>Y</td>\n",
       "      <td>N</td>\n",
       "      <td>N</td>\n",
       "      <td>Y</td>\n",
       "      <td>N</td>\n",
       "      <td>N</td>\n",
       "      <td>N</td>\n",
       "      <td>N</td>\n",
       "      <td>N</td>\n",
       "    </tr>\n",
       "    <tr>\n",
       "      <th>1</th>\n",
       "      <td>Isle of Man TT 2004 Review</td>\n",
       "      <td>2004</td>\n",
       "      <td>None</td>\n",
       "      <td>N</td>\n",
       "      <td>N</td>\n",
       "      <td>N</td>\n",
       "      <td>N</td>\n",
       "      <td>N</td>\n",
       "      <td>N</td>\n",
       "      <td>N</td>\n",
       "      <td>...</td>\n",
       "      <td>N</td>\n",
       "      <td>N</td>\n",
       "      <td>N</td>\n",
       "      <td>N</td>\n",
       "      <td>N</td>\n",
       "      <td>N</td>\n",
       "      <td>N</td>\n",
       "      <td>N</td>\n",
       "      <td>N</td>\n",
       "      <td>N</td>\n",
       "    </tr>\n",
       "    <tr>\n",
       "      <th>2</th>\n",
       "      <td>Character</td>\n",
       "      <td>1997</td>\n",
       "      <td>Crime, Drama, Mystery</td>\n",
       "      <td>N</td>\n",
       "      <td>Y</td>\n",
       "      <td>N</td>\n",
       "      <td>N</td>\n",
       "      <td>N</td>\n",
       "      <td>N</td>\n",
       "      <td>N</td>\n",
       "      <td>...</td>\n",
       "      <td>N</td>\n",
       "      <td>N</td>\n",
       "      <td>N</td>\n",
       "      <td>N</td>\n",
       "      <td>N</td>\n",
       "      <td>N</td>\n",
       "      <td>N</td>\n",
       "      <td>N</td>\n",
       "      <td>N</td>\n",
       "      <td>N</td>\n",
       "    </tr>\n",
       "    <tr>\n",
       "      <th>3</th>\n",
       "      <td>Paula Abdul's Get Up &amp; Dance</td>\n",
       "      <td>1994</td>\n",
       "      <td>None</td>\n",
       "      <td>N</td>\n",
       "      <td>N</td>\n",
       "      <td>N</td>\n",
       "      <td>N</td>\n",
       "      <td>N</td>\n",
       "      <td>N</td>\n",
       "      <td>N</td>\n",
       "      <td>...</td>\n",
       "      <td>N</td>\n",
       "      <td>N</td>\n",
       "      <td>N</td>\n",
       "      <td>N</td>\n",
       "      <td>N</td>\n",
       "      <td>N</td>\n",
       "      <td>N</td>\n",
       "      <td>N</td>\n",
       "      <td>N</td>\n",
       "      <td>N</td>\n",
       "    </tr>\n",
       "    <tr>\n",
       "      <th>4</th>\n",
       "      <td>The Rise and Fall of ECW</td>\n",
       "      <td>2004</td>\n",
       "      <td>None</td>\n",
       "      <td>N</td>\n",
       "      <td>N</td>\n",
       "      <td>N</td>\n",
       "      <td>N</td>\n",
       "      <td>N</td>\n",
       "      <td>N</td>\n",
       "      <td>N</td>\n",
       "      <td>...</td>\n",
       "      <td>N</td>\n",
       "      <td>N</td>\n",
       "      <td>N</td>\n",
       "      <td>N</td>\n",
       "      <td>N</td>\n",
       "      <td>N</td>\n",
       "      <td>N</td>\n",
       "      <td>N</td>\n",
       "      <td>N</td>\n",
       "      <td>N</td>\n",
       "    </tr>\n",
       "  </tbody>\n",
       "</table>\n",
       "<p>5 rows × 32 columns</p>\n",
       "</div>"
      ],
      "text/plain": [
       "                           Name  Year                          Genres Sci-Fi  \\\n",
       "0               Dinosaur Planet  2003  Documentary, Animation, Family      N   \n",
       "1    Isle of Man TT 2004 Review  2004                            None      N   \n",
       "2                     Character  1997           Crime, Drama, Mystery      N   \n",
       "3  Paula Abdul's Get Up & Dance  1994                            None      N   \n",
       "4      The Rise and Fall of ECW  2004                            None      N   \n",
       "\n",
       "  Crime Romance Animation Music Comedy War    ...    Action Documentary  \\\n",
       "0     N       N         Y     N      N   N    ...         N           Y   \n",
       "1     N       N         N     N      N   N    ...         N           N   \n",
       "2     Y       N         N     N      N   N    ...         N           N   \n",
       "3     N       N         N     N      N   N    ...         N           N   \n",
       "4     N       N         N     N      N   N    ...         N           N   \n",
       "\n",
       "  Musical History Family Reality-TV Fantasy Game-Show Sport Biography  \n",
       "0       N       N      Y          N       N         N     N         N  \n",
       "1       N       N      N          N       N         N     N         N  \n",
       "2       N       N      N          N       N         N     N         N  \n",
       "3       N       N      N          N       N         N     N         N  \n",
       "4       N       N      N          N       N         N     N         N  \n",
       "\n",
       "[5 rows x 32 columns]"
      ]
     },
     "execution_count": 6,
     "metadata": {},
     "output_type": "execute_result"
    }
   ],
   "source": [
    "#And here we load a dataframe containing the movie IDs and Titles information\n",
    "df_movies = pd.read_csv('/Users/saverm/Desktop/springboard/capstone 1/final report/movies_plus_genre_info_2.csv')\n",
    "df_movies.head()"
   ]
  },
  {
   "cell_type": "code",
   "execution_count": 115,
   "metadata": {
    "collapsed": true
   },
   "outputs": [],
   "source": [
    "#Before implementing an SVD model, we need to put the data in the right format\n",
    "reader = Reader(rating_scale=(1, 5))\n",
    "data = Dataset.load_from_df(df[['User ID', 'Movie ID', 'Rating']], reader)"
   ]
  },
  {
   "cell_type": "code",
   "execution_count": 117,
   "metadata": {
    "collapsed": true
   },
   "outputs": [],
   "source": [
    "# sample random trainset and testset\n",
    "# test set is made of 30% of the ratings.\n",
    "trainset, testset = train_test_split(data, test_size=.3)"
   ]
  },
  {
   "cell_type": "code",
   "execution_count": 119,
   "metadata": {
    "collapsed": false
   },
   "outputs": [],
   "source": [
    "# We'll use the famous SVD algorithm.\n",
    "model = SVD()\n",
    "\n",
    "# Train the algorithm on the trainset, and predict ratings for the testset\n",
    "model.fit(trainset)\n",
    "predictions = model.test(testset)"
   ]
  },
  {
   "cell_type": "code",
   "execution_count": 125,
   "metadata": {
    "collapsed": false
   },
   "outputs": [
    {
     "name": "stdout",
     "output_type": "stream",
     "text": [
      "RMSE: 1.0007\n"
     ]
    },
    {
     "data": {
      "text/plain": [
       "1.000703"
      ]
     },
     "execution_count": 125,
     "metadata": {},
     "output_type": "execute_result"
    }
   ],
   "source": [
    "# Then compute RMSE\n",
    "accuracy.rmse(predictions)"
   ]
  },
  {
   "cell_type": "markdown",
   "metadata": {},
   "source": [
    "Note that the RMSE is ~ 1, which is slightly better than the RMSE (~1.2), without bias adjustments, obtained  in the ALS model we implemented before."
   ]
  },
  {
   "cell_type": "code",
   "execution_count": 150,
   "metadata": {
    "collapsed": false
   },
   "outputs": [
    {
     "data": {
      "text/html": [
       "<div>\n",
       "<table border=\"1\" class=\"dataframe\">\n",
       "  <thead>\n",
       "    <tr style=\"text-align: right;\">\n",
       "      <th></th>\n",
       "      <th>User ID</th>\n",
       "      <th>Movie ID</th>\n",
       "      <th>Actual Rating</th>\n",
       "      <th>Predcited Rating</th>\n",
       "    </tr>\n",
       "  </thead>\n",
       "  <tbody>\n",
       "    <tr>\n",
       "      <th>0</th>\n",
       "      <td>1086329</td>\n",
       "      <td>11149</td>\n",
       "      <td>3</td>\n",
       "      <td>3.456652</td>\n",
       "    </tr>\n",
       "    <tr>\n",
       "      <th>1</th>\n",
       "      <td>2532803</td>\n",
       "      <td>1800</td>\n",
       "      <td>5</td>\n",
       "      <td>4.113506</td>\n",
       "    </tr>\n",
       "    <tr>\n",
       "      <th>2</th>\n",
       "      <td>2106821</td>\n",
       "      <td>6287</td>\n",
       "      <td>3</td>\n",
       "      <td>3.910562</td>\n",
       "    </tr>\n",
       "    <tr>\n",
       "      <th>3</th>\n",
       "      <td>2060522</td>\n",
       "      <td>14725</td>\n",
       "      <td>4</td>\n",
       "      <td>3.447755</td>\n",
       "    </tr>\n",
       "    <tr>\n",
       "      <th>4</th>\n",
       "      <td>11144</td>\n",
       "      <td>10094</td>\n",
       "      <td>3</td>\n",
       "      <td>3.572711</td>\n",
       "    </tr>\n",
       "  </tbody>\n",
       "</table>\n",
       "</div>"
      ],
      "text/plain": [
       "   User ID  Movie ID  Actual Rating  Predcited Rating\n",
       "0  1086329     11149              3          3.456652\n",
       "1  2532803      1800              5          4.113506\n",
       "2  2106821      6287              3          3.910562\n",
       "3  2060522     14725              4          3.447755\n",
       "4    11144     10094              3          3.572711"
      ]
     },
     "execution_count": 150,
     "metadata": {},
     "output_type": "execute_result"
    }
   ],
   "source": [
    "#Using the predictions that we obtained, we create a data frame\n",
    "df4 = pd.DataFrame(predictions)\n",
    "df4.columns = ['User ID', 'Movie ID', 'Actual Rating', 'Predcited Rating', 'aux']\n",
    "del df4['aux']\n",
    "df4.head()"
   ]
  },
  {
   "cell_type": "code",
   "execution_count": 151,
   "metadata": {
    "collapsed": false
   },
   "outputs": [],
   "source": [
    "#Here we group the data and define some functions to calculate the biases\n",
    "overall_mean = np.mean(df4['Actual Rating'].values)\n",
    "rating_by_user = df4.groupby('User ID').mean()\n",
    "rating_by_movie = df4.groupby('Movie ID').mean()\n",
    "\n",
    "def user_bias(user_id):\n",
    "    user_id = int(user_id)\n",
    "    bias = rating_by_user.loc[user_id,'Actual Rating'] - overall_mean\n",
    "    return bias\n",
    "\n",
    "def movie_bias(movie_id):\n",
    "    movie_id = int(movie_id)\n",
    "    bias = rating_by_movie.loc[movie_id,'Actual Rating'] - overall_mean\n",
    "    return bias"
   ]
  },
  {
   "cell_type": "code",
   "execution_count": 180,
   "metadata": {
    "collapsed": false
   },
   "outputs": [
    {
     "data": {
      "text/html": [
       "<div>\n",
       "<table border=\"1\" class=\"dataframe\">\n",
       "  <thead>\n",
       "    <tr style=\"text-align: right;\">\n",
       "      <th></th>\n",
       "      <th>User ID</th>\n",
       "      <th>Movie ID</th>\n",
       "      <th>Actual Rating</th>\n",
       "      <th>Predcited Rating</th>\n",
       "      <th>with_user_bias</th>\n",
       "      <th>with_movie_bias</th>\n",
       "      <th>with_all_bias</th>\n",
       "    </tr>\n",
       "  </thead>\n",
       "  <tbody>\n",
       "    <tr>\n",
       "      <th>0</th>\n",
       "      <td>1086329</td>\n",
       "      <td>11149</td>\n",
       "      <td>3</td>\n",
       "      <td>3.456652</td>\n",
       "      <td>2.395737</td>\n",
       "      <td>2.599345</td>\n",
       "      <td>1.995082</td>\n",
       "    </tr>\n",
       "    <tr>\n",
       "      <th>1</th>\n",
       "      <td>2532803</td>\n",
       "      <td>1800</td>\n",
       "      <td>5</td>\n",
       "      <td>4.113506</td>\n",
       "      <td>5.000000</td>\n",
       "      <td>5.000000</td>\n",
       "      <td>5.000000</td>\n",
       "    </tr>\n",
       "    <tr>\n",
       "      <th>2</th>\n",
       "      <td>2106821</td>\n",
       "      <td>6287</td>\n",
       "      <td>3</td>\n",
       "      <td>3.910562</td>\n",
       "      <td>2.395737</td>\n",
       "      <td>3.337617</td>\n",
       "      <td>2.733354</td>\n",
       "    </tr>\n",
       "    <tr>\n",
       "      <th>3</th>\n",
       "      <td>2060522</td>\n",
       "      <td>14725</td>\n",
       "      <td>4</td>\n",
       "      <td>3.447755</td>\n",
       "      <td>4.395737</td>\n",
       "      <td>3.800231</td>\n",
       "      <td>4.195968</td>\n",
       "    </tr>\n",
       "    <tr>\n",
       "      <th>4</th>\n",
       "      <td>11144</td>\n",
       "      <td>10094</td>\n",
       "      <td>3</td>\n",
       "      <td>3.572711</td>\n",
       "      <td>3.062403</td>\n",
       "      <td>3.020737</td>\n",
       "      <td>3.083140</td>\n",
       "    </tr>\n",
       "  </tbody>\n",
       "</table>\n",
       "</div>"
      ],
      "text/plain": [
       "   User ID  Movie ID  Actual Rating  Predcited Rating  with_user_bias  \\\n",
       "0  1086329     11149              3          3.456652        2.395737   \n",
       "1  2532803      1800              5          4.113506        5.000000   \n",
       "2  2106821      6287              3          3.910562        2.395737   \n",
       "3  2060522     14725              4          3.447755        4.395737   \n",
       "4    11144     10094              3          3.572711        3.062403   \n",
       "\n",
       "   with_movie_bias  with_all_bias  \n",
       "0         2.599345       1.995082  \n",
       "1         5.000000       5.000000  \n",
       "2         3.337617       2.733354  \n",
       "3         3.800231       4.195968  \n",
       "4         3.020737       3.083140  "
      ]
     },
     "execution_count": 180,
     "metadata": {},
     "output_type": "execute_result"
    }
   ],
   "source": [
    "#Now, we proceed to add the user and movie specific biases to the predicted ratings.\n",
    "#In case that the adjusted rating is higher than 5, it will be set to 5.\n",
    "#In case that the adjusted rating is lower than 1, it will be set to 1.\n",
    "\n",
    "def with_user_bias(row):\n",
    "    a = row['Actual Rating'] + user_bias(row['User ID'])\n",
    "    if a > 5:\n",
    "        a = 5\n",
    "    elif a < 1:\n",
    "        a = 1\n",
    "        \n",
    "    return a\n",
    "\n",
    "def with_movie_bias(row):\n",
    "    a = row['Actual Rating'] + movie_bias(row['Movie ID'])\n",
    "    if a > 5:\n",
    "        a = 5\n",
    "    elif a < 1:\n",
    "        a = 1\n",
    "        \n",
    "    return a\n",
    "\n",
    "def all_bias(row):\n",
    "    a = row['Actual Rating'] + user_bias(row['User ID']) + movie_bias(row['Movie ID'])\n",
    "    if a > 5:\n",
    "        a = 5\n",
    "    elif a < 1:\n",
    "        a = 1\n",
    "        \n",
    "    return a\n",
    "\n",
    "df4['with_user_bias'] = df4.apply(with_user_bias, axis=1)\n",
    "df4['with_movie_bias'] = df4.apply(with_movie_bias, axis=1)\n",
    "df4['with_all_bias'] = df4.apply(all_bias, axis=1)\n",
    "\n",
    "df4.head()"
   ]
  },
  {
   "cell_type": "code",
   "execution_count": 181,
   "metadata": {
    "collapsed": false
   },
   "outputs": [
    {
     "name": "stdout",
     "output_type": "stream",
     "text": [
      "1.000702585324963\n",
      "0.8604173370876813\n",
      "0.45467698747851926\n",
      "1.0908888927374834\n"
     ]
    }
   ],
   "source": [
    "#After these adjustments, we calculate and plot the respective errors, measured as RMSE\n",
    "rmse = np.sqrt(mean_squared_error(df5['Actual Rating'].values, df4['Predcited Rating'].values))\n",
    "rmse_user_adj = np.sqrt(mean_squared_error(df5['Actual Rating'].values, df4['with_user_bias'].values))\n",
    "rmse_movie_adj = np.sqrt(mean_squared_error(df5['Actual Rating'].values, df4['with_movie_bias'].values))\n",
    "rmse_adj = np.sqrt(mean_squared_error(df5['Actual Rating'].values, df4['with_all_bias'].values))\n",
    "\n",
    "print rmse\n",
    "print rmse_user_adj\n",
    "print rmse_movie_adj\n",
    "print rmse_adj"
   ]
  },
  {
   "cell_type": "code",
   "execution_count": 179,
   "metadata": {
    "collapsed": false
   },
   "outputs": [
    {
     "data": {
      "image/png": "[encoded data removed]",
      "text/plain": [
       "<matplotlib.figure.Figure at 0x1c36257d0>"
      ]
     },
     "metadata": {},
     "output_type": "display_data"
    }
   ],
   "source": [
    "#Here we plot the RMSEs we obtained\n",
    "\n",
    "rmses = [rmse,rmse_user_adj,rmse_movie_adj,rmse_adj]\n",
    "x_pos = list(range(1,2*len(rmses),2))\n",
    "color = ['#FF6666', '#FFB266', '#FFFF66','#B266FF']\n",
    "labels = ['Base', 'User adjusted', 'Movie adjusted', 'User+Movie adjusted']\n",
    "\n",
    "fig, ax = plt.subplots(figsize = (7.5, 7.5))\n",
    "\n",
    "plt.plot([0,14],[rmse]*2, linewidth = 1, color = 'k', linestyle = '--')\n",
    "plt.bar(x_pos,\n",
    "        # using the data from the mean_values\n",
    "        rmses, \n",
    "        # aligned in the center\n",
    "        align='center',\n",
    "        # with color\n",
    "        color = color,\n",
    "        # transparency\n",
    "        alpha=.75)\n",
    "\n",
    "ax.set_xticks(x_pos)\n",
    "ax.set_xticklabels(labels)\n",
    "plt.xlim(0,8)\n",
    "plt.ylim(0,1.5)\n",
    "plt.xticks(rotation=75)\n",
    "plt.xlabel('SVD models', fontsize = 20)\n",
    "plt.ylabel('Ratings RMSE', fontsize = 20)\n",
    "ax.tick_params(labelsize=15)\n",
    "plt.savefig('SVD_RMSEs.png', bbox_inches=\"tight\")\n",
    "plt.show()"
   ]
  },
  {
   "cell_type": "markdown",
   "metadata": {},
   "source": [
    "Similar to the results we obtained for the ALS based recomender from before, adjusting the predicted ratings from the SVD based recomender with a movie-specific rating bias greatly inproves the prediction accuracy."
   ]
  },
  {
   "cell_type": "code",
   "execution_count": 7,
   "metadata": {
    "collapsed": false
   },
   "outputs": [
    {
     "data": {
      "text/html": [
       "<div>\n",
       "<table border=\"1\" class=\"dataframe\">\n",
       "  <thead>\n",
       "    <tr style=\"text-align: right;\">\n",
       "      <th></th>\n",
       "      <th>User ID</th>\n",
       "      <th>Movie ID</th>\n",
       "      <th>Rating</th>\n",
       "    </tr>\n",
       "  </thead>\n",
       "  <tbody>\n",
       "    <tr>\n",
       "      <th>5</th>\n",
       "      <td>0</td>\n",
       "      <td>5732</td>\n",
       "      <td>4</td>\n",
       "    </tr>\n",
       "    <tr>\n",
       "      <th>6</th>\n",
       "      <td>0</td>\n",
       "      <td>15096</td>\n",
       "      <td>5</td>\n",
       "    </tr>\n",
       "    <tr>\n",
       "      <th>7</th>\n",
       "      <td>0</td>\n",
       "      <td>17132</td>\n",
       "      <td>5</td>\n",
       "    </tr>\n",
       "    <tr>\n",
       "      <th>8</th>\n",
       "      <td>0</td>\n",
       "      <td>11763</td>\n",
       "      <td>3</td>\n",
       "    </tr>\n",
       "    <tr>\n",
       "      <th>9</th>\n",
       "      <td>0</td>\n",
       "      <td>178</td>\n",
       "      <td>5</td>\n",
       "    </tr>\n",
       "  </tbody>\n",
       "</table>\n",
       "</div>"
      ],
      "text/plain": [
       "   User ID  Movie ID  Rating\n",
       "5        0      5732       4\n",
       "6        0     15096       5\n",
       "7        0     17132       5\n",
       "8        0     11763       3\n",
       "9        0       178       5"
      ]
     },
     "execution_count": 7,
     "metadata": {},
     "output_type": "execute_result"
    }
   ],
   "source": [
    "#Like before we will include the following list of movies for a new user, \n",
    "#not previously present in the original dataset\n",
    "\n",
    "#New user (\"0\"), list of movie ratings\n",
    "\n",
    "new_ratings = [\n",
    "    (0,14941,4),# The Matrix\n",
    "    (0,14928,4),# Dead Poets Society\n",
    "    (0,5344,5),# Fullmetal Alchemist\n",
    "    (0,10463,4),# Pokemon: The First Movie\n",
    "    (0,10453,4),# Pokemon Advanced\n",
    "    (0,5732,4),# Good Will Hunting\n",
    "    (0,15096,5),# The Notebook\n",
    "    (0,17132,5),# Waking Life\n",
    "    (0,11763,3),# Serendipity\n",
    "    (0,178,5) #A Beautiful Mind\n",
    "]\n",
    "\n",
    "\n",
    "df6 = pd.DataFrame(new_ratings)\n",
    "df6.columns = ['User ID', 'Movie ID', 'Rating']\n",
    "\n",
    "new_df = pd.concat([df, df6])\n",
    "\n",
    "new_df.tail()"
   ]
  },
  {
   "cell_type": "code",
   "execution_count": 8,
   "metadata": {
    "collapsed": false
   },
   "outputs": [],
   "source": [
    "#Wwe out the new data set into the right format\n",
    "reader = Reader(rating_scale=(1, 5))\n",
    "data = Dataset.load_from_df(new_df[['User ID', 'Movie ID', 'Rating']], reader)"
   ]
  },
  {
   "cell_type": "code",
   "execution_count": 9,
   "metadata": {
    "collapsed": false
   },
   "outputs": [
    {
     "name": "stdout",
     "output_type": "stream",
     "text": [
      "Evaluating RMSE of algorithm SVD on 5 split(s).\n",
      "\n",
      "                  Fold 1  Fold 2  Fold 3  Fold 4  Fold 5  Mean    Std     \n",
      "RMSE (testset)    0.9974  0.9962  1.0004  0.9994  0.9993  0.9985  0.0015  \n",
      "Fit time          57.85   58.91   59.68   57.46   55.27   57.83   1.50    \n",
      "Test time         2.31    2.30    2.31    2.55    2.06    2.31    0.16    \n"
     ]
    },
    {
     "data": {
      "text/plain": [
       "{u'fit_time': (57.851417, 58.905262, 59.676914, 57.463631, 55.268698),\n",
       " u'test_rmse': array([0.99742219, 0.99619159, 1.00040848, 0.99942086, 0.99925657]),\n",
       " u'test_time': (2.310477, 2.301514, 2.306180, 2.554548, 2.059693)}"
      ]
     },
     "execution_count": 9,
     "metadata": {},
     "output_type": "execute_result"
    }
   ],
   "source": [
    "#We proceed to create a SVD model and validate it using a 5-fold crossvalidation\n",
    "new_model = SVD()\n",
    "cross_validate(new_model, data, measures = ['RMSE'], cv = 5, verbose = True)"
   ]
  },
  {
   "cell_type": "markdown",
   "metadata": {},
   "source": [
    "We can see that the prediction error, measured as RMSE, remains stable across the different folds of the data"
   ]
  },
  {
   "cell_type": "code",
   "execution_count": 10,
   "metadata": {
    "collapsed": false
   },
   "outputs": [
    {
     "data": {
      "text/plain": [
       "<surprise.prediction_algorithms.matrix_factorization.SVD at 0x10e8e3dd0>"
      ]
     },
     "execution_count": 10,
     "metadata": {},
     "output_type": "execute_result"
    }
   ],
   "source": [
    "#Now We proceed to train our SVD model\n",
    "trainset = data.build_full_trainset()\n",
    "new_model.fit(trainset)"
   ]
  },
  {
   "cell_type": "code",
   "execution_count": 11,
   "metadata": {
    "collapsed": false
   },
   "outputs": [],
   "source": [
    "#Before making recomendations, we need a list of all the movies the new user has not yet rated\n",
    "all_ids = list(set(df['Movie ID'].values.tolist()))\n",
    "new_ids = [14941, 14928, 5344, 10463, 10453, 5732, 15096, 17132, 11763, 178]\n",
    "not_rated_ids = [x for x in all_ids if x not in new_ids]\n",
    "pred_rating = []"
   ]
  },
  {
   "cell_type": "code",
   "execution_count": 12,
   "metadata": {
    "collapsed": false
   },
   "outputs": [],
   "source": [
    "#Here we predict the raings for the movies that the new user \n",
    "#We also group the data (in the new_df data frame)by movie ID and define the \n",
    "#movie_bias function needed to calculate the movie-specific bias\n",
    "\n",
    "overall_mean = np.mean(new_df['Rating'].values)\n",
    "rating_by_movie = new_df.groupby('Movie ID').mean()\n",
    "\n",
    "def movie_bias(movie_id):\n",
    "    movie_id = int(movie_id)\n",
    "    bias = rating_by_movie.loc[movie_id,'Rating'] - overall_mean\n",
    "    return bias\n",
    "\n",
    "pred_rating = []\n",
    "for idx in not_rated_ids:\n",
    "    pred = new_model.predict(0, idx)\n",
    "    pred_rating.append(pred[3] + movie_bias(idx))  "
   ]
  },
  {
   "cell_type": "code",
   "execution_count": 24,
   "metadata": {
    "collapsed": false
   },
   "outputs": [
    {
     "name": "stdout",
     "output_type": "stream",
     "text": [
      "Recomended movies for new user:\n",
      " \n",
      "Dead Like Me: Season 2. Predicted rating: 5 Stars\n",
      "Lost: Season 1. Predicted rating: 5 Stars\n",
      "Lord of the Rings: The Return of the King: Extended Edition. Predicted rating: 5 Stars\n",
      "The Lord of the Rings: The Fellowship of the Ring: Extended Edition. Predicted rating: 5 Stars\n",
      "Seinfeld: Season 3. Predicted rating: 5 Stars\n",
      "Lord of the Rings: The Two Towers: Extended Edition. Predicted rating: 5 Stars\n",
      "Angel: Season 5. Predicted rating: 5 Stars\n",
      "The Simpsons: Season 6. Predicted rating: 5 Stars\n",
      "The Shawshank Redemption: Special Edition. Predicted rating: 5 Stars\n",
      "Firefly. Predicted rating: 5 Stars\n",
      "Cinderella: Special Edition. Predicted rating: 5 Stars\n",
      "Family Guy: Vol. 1: Seasons 1-2. Predicted rating: 5 Stars\n",
      "Nip/Tuck: Season 2. Predicted rating: 5 Stars\n",
      "Raiders of the Lost Ark. Predicted rating: 5 Stars\n",
      "Anne of Green Gables. Predicted rating: 5 Stars\n",
      "Gladiator: Extended Edition. Predicted rating: 5 Stars\n",
      "The Twilight Zone: Vol. 42. Predicted rating: 5 Stars\n",
      "Family Guy: Vol. 2: Season 3. Predicted rating: 5 Stars\n",
      "The West Wing: Season 3. Predicted rating: 5 Stars\n",
      "Gilmore Girls: Season 4. Predicted rating: 5 Stars\n",
      "Star Wars: Episode V: The Empire Strikes Back. Predicted rating: 5 Stars\n",
      "The Simpsons: Season 4. Predicted rating: 5 Stars\n",
      "The O.C.: Season 1. Predicted rating: 5 Stars\n",
      "Buffy the Vampire Slayer: Season 2. Predicted rating: 5 Stars\n",
      "CSI: Season 3. Predicted rating: 5 Stars\n"
     ]
    }
   ],
   "source": [
    "# A movie will be cosidered for recomendation if it has at least 20 ratings in the dataset used to train the SVD model\n",
    "\n",
    "def adjust(r):\n",
    "    a = r\n",
    "    if a > 5:\n",
    "        a = 5\n",
    "    elif a < 1:\n",
    "        a = 1\n",
    "    \n",
    "    return a\n",
    "\n",
    "print('Recomended movies for new user:')\n",
    "\n",
    "L = zip(not_rated_ids,pred_rating)\n",
    "Ls = sorted(L, key=lambda x: x[1])\n",
    "Ls.reverse()\n",
    "top,ratings = zip(*Ls)\n",
    "ratings = map(adjust,ratings)\n",
    "c = 0\n",
    "i = 0\n",
    "\n",
    "print(' ')\n",
    "while c < 25:\n",
    "    if np.sum(new_df['Movie ID'] == top[i]) > 20:\n",
    "        print  \"%s. Predicted rating: %s Stars\" % (df_movies.loc[top[i]-1,'Name'],ratings[i])\n",
    "        c += 1\n",
    "        i += 1\n",
    "    else:\n",
    "        i += 1\n"
   ]
  },
  {
   "cell_type": "markdown",
   "metadata": {},
   "source": [
    "For comparson here is the list of top recomended movies for the same new user (user ID = 0),\n",
    "that we obtained from the ALS based recomender\n",
    "\n",
    "Finding Nemo (Widescreen). Predicted rating: 5 Stars <br>\n",
    "Lord of the Rings: The Return of the King. Predicted rating: 5 Stars<br>\n",
    "Star Wars: Episode VI: Return of the Jedi. Predicted rating: 5 Stars<br>\n",
    "As Time Goes By: Series 4. Predicted rating: 5 Stars<br>\n",
    "Buffy the Vampire Slayer: Season 7. Predicted rating: 5 Stars<br>\n",
    "Red Dwarf: Series 4. Predicted rating: 5 Stars<br>\n",
    "Homicide: Life on the Street: Season 4. Predicted rating: 5 Stars<br>\n",
    "The Godfather. Predicted rating: 5 Stars<br>\n",
    "Gilmore Girls: Season 3. Predicted rating: 5 Stars<br>\n",
    "South Park: Season 5. Predicted rating: 5 Stars<br>\n",
    "The Sopranos: Season 1. Predicted rating: 5 Stars<br>\n",
    "CSI: Season 4. Predicted rating: 5 Stars<br>\n",
    "Gladiator: Extended Edition. Predicted rating: 5 Stars<br>\n",
    "Seinfeld: Season 4. Predicted rating: 5 Stars<br>\n",
    "Farscape: The Peacekeeper Wars. Predicted rating: 5 Stars<br>\n",
    "Tokyo Story. Predicted rating: 5 Stars<br>\n",
    "Seinfeld: Season 3. Predicted rating: 5 Stars<br>\n",
    "Law & Order: Season 3. Predicted rating: 5 Stars<br>\n",
    "CSI: Season 3. Predicted rating: 5 Stars<br>\n",
    "The Simpsons: Bart Wars. Predicted rating: 5 Stars"
   ]
  },
  {
   "cell_type": "markdown",
   "metadata": {
    "collapsed": false
   },
   "source": [
    "Doing a quick overview of these two lists we see that both the ALS and SVD base recomenders give similar results for the same new user. For example, in both cases we see recomendations such as \"The Lord of the Rings\" or \"The Simpsons\". Of note, this are only the top recomended movies, so more similarities "
   ]
  },
  {
   "cell_type": "markdown",
   "metadata": {},
   "source": [
    "# 7. Conclusion and Future directions.\n"
   ]
  },
  {
   "cell_type": "markdown",
   "metadata": {},
   "source": [
    "The NetFlix prize competition aimed at improving the accuracy of Netflix recomendation system, called CineMatch. The RMSE for the recomendations produced by this method as ~ 1. Both the ALS (basal RMSE: ~1.2) and SVD (basal RMSE: ~1) produced similar predictions errors. For simplicity, the analysis presented here was performed using only a subset          (1 million) of the ratings in the NetFlix Prize, therefore a higher accuracy (lower prediction error) could be achieved by analysing the entire Netflix Prize data set on a system with higher computing power.\n",
    "\n",
    "The NetFlix prize competition was won by combining multiple predictive models, with a RMSE of ~0.85. Surprizingly, here we obtained an even better (lower) prediction error (~0.4 RMSE), by simply adjusting the predicted ratings by the overall user or movie specific rating biases. Therefore, it is suggested that future reccomender systems would greatly benefit from incorporating this type of biases in ratings predictions.\n",
    "\n",
    "Of note, this type of movie recommender systems will most likely need to be revised, as Netflix has changed its 5 Star rating scale to a \"Liked\" or \"Not Liked\" system.\n"
   ]
  },
  {
   "cell_type": "markdown",
   "metadata": {},
   "source": [
    "# 8. References"
   ]
  },
  {
   "cell_type": "markdown",
   "metadata": {},
   "source": [
    "\"Collaborative Filtering - RDD-based API\",\n",
    "Link: https://spark.apache.org/docs/2.2.0/mllib-collaborative-filtering.html\n",
    "\n",
    "\"An on-line movie recommending service using Spark\", \n",
    "Link: https://github.com/jadianes/spark-movie-lens/blob/master/notebooks/building-recommender.ipynb\n",
    "\n",
    "\"Surprise: A python scikit for recommender systems\",\n",
    "Link: http://surpriselib.com/\n",
    "\n",
    "\"NetFlix Prize\",\n",
    "Link: https://en.wikipedia.org/wiki/Netflix_Prize\n",
    "\n",
    "\"Winning the Netflix Prize: A Summary\", \n",
    "Link: http://blog.echen.me/2011/10/24/winning-the-netflix-prize-a-summary/"
   ]
  },
  {
   "cell_type": "code",
   "execution_count": null,
   "metadata": {
    "collapsed": true
   },
   "outputs": [],
   "source": []
  }
 ],
 "metadata": {
  "kernelspec": {
   "display_name": "Python 2",
   "language": "python",
   "name": "python2"
  },
  "language_info": {
   "codemirror_mode": {
    "name": "ipython",
    "version": 2
   },
   "file_extension": ".py",
   "mimetype": "text/x-python",
   "name": "python",
   "nbconvert_exporter": "python",
   "pygments_lexer": "ipython2",
   "version": "2.7.13"
  }
 },
 "nbformat": 4,
 "nbformat_minor": 0
}
