{
 "cells": [
  {
   "cell_type": "markdown",
   "metadata": {},
   "source": [
    "# What is the True Normal Human Body Temperature? \n",
    "\n",
    "#### Background\n",
    "\n",
    "The mean normal body temperature was held to be 37$^{\\circ}$C or 98.6$^{\\circ}$F for more than 120 years since it was first conceptualized and reported by Carl Wunderlich in a famous 1868 book. But, is this value statistically correct?"
   ]
  },
  {
   "cell_type": "markdown",
   "metadata": {},
   "source": [
    "<h3>Exercises</h3>\n",
    "\n",
    "<p>In this exercise, you will analyze a dataset of human body temperatures and employ the concepts of hypothesis testing, confidence intervals, and statistical significance.</p>\n",
    "\n",
    "<p>Answer the following questions <b>in this notebook below and submit to your Github account</b>.</p> \n",
    "\n",
    "<ol>\n",
    "<li>  Is the distribution of body temperatures normal? \n",
    "    <ul>\n",
    "    <li> Although this is not a requirement for CLT to hold (read CLT carefully), it gives us some peace of mind that the population may also be normally distributed if we assume that this sample is representative of the population.\n",
    "    </ul>\n",
    "<li>  Is the sample size large? Are the observations independent?\n",
    "    <ul>\n",
    "    <li> Remember that this is a condition for the CLT, and hence the statistical tests we are using, to apply.\n",
    "    </ul>\n",
    "<li>  Is the true population mean really 98.6 degrees F?\n",
    "    <ul>\n",
    "    <li> Would you use a one-sample or two-sample test? Why?\n",
    "    <li> In this situation, is it appropriate to use the $t$ or $z$ statistic? \n",
    "    <li> Now try using the other test. How is the result be different? Why?\n",
    "    </ul>\n",
    "<li>  Draw a small sample of size 10 from the data and repeat both tests. \n",
    "    <ul>\n",
    "    <li> Which one is the correct one to use? \n",
    "    <li> What do you notice? What does this tell you about the difference in application of the $t$ and $z$ statistic?\n",
    "    </ul>\n",
    "<li>  At what temperature should we consider someone's temperature to be \"abnormal\"?\n",
    "    <ul>\n",
    "    <li> Start by computing the margin of error and confidence interval.\n",
    "    </ul>\n",
    "<li>  Is there a significant difference between males and females in normal temperature?\n",
    "    <ul>\n",
    "    <li> What test did you use and why?\n",
    "    <li> Write a story with your conclusion in the context of the original problem.\n",
    "    </ul>\n",
    "</ol>\n",
    "\n",
    "You can include written notes in notebook cells using Markdown: \n",
    "   - In the control panel at the top, choose Cell > Cell Type > Markdown\n",
    "   - Markdown syntax: http://nestacms.com/docs/creating-content/markdown-cheat-sheet\n",
    "\n",
    "#### Resources\n",
    "\n",
    "+ Information and data sources: http://www.amstat.org/publications/jse/datasets/normtemp.txt, http://www.amstat.org/publications/jse/jse_data_archive.htm\n",
    "+ Markdown syntax: http://nestacms.com/docs/creating-content/markdown-cheat-sheet\n",
    "\n",
    "****"
   ]
  },
  {
   "cell_type": "code",
   "execution_count": 32,
   "metadata": {
    "collapsed": false
   },
   "outputs": [],
   "source": [
    "%matplotlib inline\n",
    "import numpy as np\n",
    "import pandas as pd\n",
    "import seaborn as sns\n",
    "import matplotlib.pyplot as plt\n",
    "import scipy.stats as stats\n",
    "import statsmodels.api as sm\n",
    "\n",
    "df = pd.read_csv('data/human_body_temperature.csv')"
   ]
  },
  {
   "cell_type": "code",
   "execution_count": 3,
   "metadata": {
    "collapsed": true
   },
   "outputs": [],
   "source": [
    "# Your work here."
   ]
  },
  {
   "cell_type": "code",
   "execution_count": 2,
   "metadata": {
    "collapsed": false
   },
   "outputs": [
    {
     "data": {
      "text/html": [
       "<div>\n",
       "<table border=\"1\" class=\"dataframe\">\n",
       "  <thead>\n",
       "    <tr style=\"text-align: right;\">\n",
       "      <th></th>\n",
       "      <th>temperature</th>\n",
       "      <th>gender</th>\n",
       "      <th>heart_rate</th>\n",
       "    </tr>\n",
       "  </thead>\n",
       "  <tbody>\n",
       "    <tr>\n",
       "      <th>0</th>\n",
       "      <td>99.3</td>\n",
       "      <td>F</td>\n",
       "      <td>68</td>\n",
       "    </tr>\n",
       "    <tr>\n",
       "      <th>1</th>\n",
       "      <td>98.4</td>\n",
       "      <td>F</td>\n",
       "      <td>81</td>\n",
       "    </tr>\n",
       "    <tr>\n",
       "      <th>2</th>\n",
       "      <td>97.8</td>\n",
       "      <td>M</td>\n",
       "      <td>73</td>\n",
       "    </tr>\n",
       "    <tr>\n",
       "      <th>3</th>\n",
       "      <td>99.2</td>\n",
       "      <td>F</td>\n",
       "      <td>66</td>\n",
       "    </tr>\n",
       "    <tr>\n",
       "      <th>4</th>\n",
       "      <td>98.0</td>\n",
       "      <td>F</td>\n",
       "      <td>73</td>\n",
       "    </tr>\n",
       "  </tbody>\n",
       "</table>\n",
       "</div>"
      ],
      "text/plain": [
       "   temperature gender  heart_rate\n",
       "0         99.3      F          68\n",
       "1         98.4      F          81\n",
       "2         97.8      M          73\n",
       "3         99.2      F          66\n",
       "4         98.0      F          73"
      ]
     },
     "execution_count": 2,
     "metadata": {},
     "output_type": "execute_result"
    }
   ],
   "source": [
    "df.head()"
   ]
  },
  {
   "cell_type": "code",
   "execution_count": 21,
   "metadata": {
    "collapsed": true
   },
   "outputs": [],
   "source": [
    "temperature = df.temperature.values"
   ]
  },
  {
   "cell_type": "markdown",
   "metadata": {},
   "source": [
    "1. Is the distribution of body temperatures normal? "
   ]
  },
  {
   "cell_type": "code",
   "execution_count": 15,
   "metadata": {
    "collapsed": false
   },
   "outputs": [
    {
     "data": {
      "text/plain": [
       "[<matplotlib.text.Text at 0x10fd56a90>, <matplotlib.text.Text at 0x10fd38710>]"
      ]
     },
     "execution_count": 15,
     "metadata": {},
     "output_type": "execute_result"
    },
    {
     "data": {
      "image/png": "[encoded data removed]",
      "text/plain": [
       "<matplotlib.figure.Figure at 0x10efc9390>"
      ]
     },
     "metadata": {},
     "output_type": "display_data"
    }
   ],
   "source": [
    "f = sns.distplot(temperature, rug = True);\n",
    "f.set(xlabel = 'Body Temperature (F)', ylabel = 'Probability density')"
   ]
  },
  {
   "cell_type": "markdown",
   "metadata": {
    "collapsed": true
   },
   "source": [
    "In the previous plot, we can see that the temperature distribution doesn't look exactly normal, but to test that we can use the normaltest( ) test from scipy.\n",
    "\n",
    "source: https://stackoverflow.com/questions/12838993/scipy-normaltest-how-is-it-used"
   ]
  },
  {
   "cell_type": "code",
   "execution_count": 16,
   "metadata": {
    "collapsed": false
   },
   "outputs": [
    {
     "data": {
      "text/plain": [
       "NormaltestResult(statistic=2.7038014333192031, pvalue=0.2587479863488254)"
      ]
     },
     "execution_count": 16,
     "metadata": {},
     "output_type": "execute_result"
    }
   ],
   "source": [
    "stats.normaltest(temperature)"
   ]
  },
  {
   "cell_type": "markdown",
   "metadata": {},
   "source": [
    "Since the pvalue > 0.05 (second value in the previous tuple),\n",
    "we conclude that the data is not normally distributed."
   ]
  },
  {
   "cell_type": "code",
   "execution_count": 92,
   "metadata": {
    "collapsed": false
   },
   "outputs": [
    {
     "data": {
      "text/plain": [
       "98.249230769230749"
      ]
     },
     "execution_count": 92,
     "metadata": {},
     "output_type": "execute_result"
    }
   ],
   "source": [
    "np.mean(temperature)"
   ]
  },
  {
   "cell_type": "markdown",
   "metadata": {},
   "source": [
    "Q2: Is the sample size large?\n",
    "    According to this source: https://www.qualtrics.com/blog/determining-sample-size/\n",
    "    to calculate our ideal sample size we can use this formula:\n",
    "        Necessary Sample Size = (Z-score)^2 * StdDev*(1-StdDev) / (margin of error)^2"
   ]
  },
  {
   "cell_type": "markdown",
   "metadata": {},
   "source": [
    "We could make the following assumptions (as explained in the aboe source):"
   ]
  },
  {
   "cell_type": "markdown",
   "metadata": {},
   "source": [
    "Z-score = 1.96 (corresponding Z-score for a 95% confidence interval)"
   ]
  },
  {
   "cell_type": "markdown",
   "metadata": {},
   "source": [
    "StdDev = .5 (We could assume this value when we don't n=know the true population StDev')"
   ]
  },
  {
   "cell_type": "markdown",
   "metadata": {},
   "source": [
    "margin of error = 0.05 (5% margin of error)"
   ]
  },
  {
   "cell_type": "markdown",
   "metadata": {},
   "source": [
    "When using the above values with the previous formula we obtain Sample_Size = 384"
   ]
  },
  {
   "cell_type": "markdown",
   "metadata": {},
   "source": [
    "Thus, the ssample dise (n = 130), is not large enough for the desired values as mentioned above."
   ]
  },
  {
   "cell_type": "markdown",
   "metadata": {},
   "source": [
    "3.Is the true population mean really 98.6 degrees F? \n",
    "\n",
    "Since the data is not normally distributed, and we don't know the population standar deviation, the most appropiate test would be a two-sided one-sample t-test where we compare our sample mean against 98.6 (suposed true human population mean temperature). The test should be two sided, since we have no reason to suspect the the our sample's mean might be higher or lower that the population's mean  (98.6)"
   ]
  },
  {
   "cell_type": "code",
   "execution_count": 27,
   "metadata": {
    "collapsed": false
   },
   "outputs": [
    {
     "name": "stdout",
     "output_type": "stream",
     "text": [
      "The mean temperature of the sample is: 98.2492307692 °F\n"
     ]
    }
   ],
   "source": [
    "print('The mean temperature of the sample is: '+str(np.mean(temperature))+ ' °F')"
   ]
  },
  {
   "cell_type": "code",
   "execution_count": 41,
   "metadata": {
    "collapsed": false
   },
   "outputs": [
    {
     "name": "stdout",
     "output_type": "stream",
     "text": [
      "t-test pvalue = 2.41063204156e-07\n"
     ]
    }
   ],
   "source": [
    "# To performed a two-sided one-sample t-test, we can use the the ttest_1samp() test from scipy\n",
    "t, pvalue1 = stats.ttest_1samp(temperature,98.6)\n",
    "print('t-test pvalue = '+str(pvalue1))"
   ]
  },
  {
   "cell_type": "markdown",
   "metadata": {},
   "source": [
    "Since pvalue < 0.05, we can conclude that the population mean does not equal 98.6 °F."
   ]
  },
  {
   "cell_type": "code",
   "execution_count": 33,
   "metadata": {
    "collapsed": false
   },
   "outputs": [],
   "source": [
    "# We can also try a one sample two-sided z test\n",
    "d1 = sm.stats.DescrStatsW(temperature)"
   ]
  },
  {
   "cell_type": "code",
   "execution_count": 42,
   "metadata": {
    "collapsed": false
   },
   "outputs": [
    {
     "name": "stdout",
     "output_type": "stream",
     "text": [
      "z-test pvalue = 4.90215701411e-08\n"
     ]
    }
   ],
   "source": [
    "z, pvalue2  = d1.ztest_mean(98.6)\n",
    "print('z-test pvalue = '+str(pvalue2))"
   ]
  },
  {
   "cell_type": "markdown",
   "metadata": {},
   "source": [
    "Again, since the z-test pvalue < 0.05, the population the population mean does not equal 98.6 °F."
   ]
  },
  {
   "cell_type": "markdown",
   "metadata": {},
   "source": [
    "AS explained here (http://www.differencebetween.net/miscellaneous/difference-between-z-test-and-t-test/)\n",
    "when the sample size is large, the t-test becmomes similar to the z-test, but fluctuations may still occur.\n",
    "However, in the t-test and z-test that we performed here, the pvalues are much smaller than 0. \n",
    "Thus the conclusion are broadly the same, that the poppulation's mean temperature is not 98.6 °F."
   ]
  },
  {
   "cell_type": "markdown",
   "metadata": {},
   "source": [
    "Q4: Draw a small sample of size 10 from the data and repeat both tests\n",
    "\n",
    "In general, for sample size < 10 and unknown population standar deviation, the best choice is t-test.\n",
    "source: https://www.linkedin.com/pulse/z-test-vs-t-test-arunmozhi-ilango/"
   ]
  },
  {
   "cell_type": "code",
   "execution_count": 65,
   "metadata": {
    "collapsed": false
   },
   "outputs": [
    {
     "name": "stdout",
     "output_type": "stream",
     "text": [
      "The mean of the random sample is: 98.42\n",
      "t-test pvalue = 0.503186663247\n",
      "z-test pvalue = 0.485571585396\n"
     ]
    }
   ],
   "source": [
    "#If we take 1 random sample we see the following:\n",
    "\n",
    "random_sample_10 = np.random.choice(temperature, size = 10)\n",
    "print('The mean of the random sample is: '+ str(np.mean(random_sample_10)))\n",
    "t, pvalue1 = stats.ttest_1samp(random_sample_10,98.6)\n",
    "d1 = sm.stats.DescrStatsW(random_sample_10)\n",
    "z, pvalue2  = d1.ztest_mean(98.6)\n",
    "print('t-test pvalue = '+str(pvalue1))\n",
    "print('z-test pvalue = '+str(pvalue2))"
   ]
  },
  {
   "cell_type": "code",
   "execution_count": 76,
   "metadata": {
    "collapsed": false
   },
   "outputs": [],
   "source": [
    "#On the other hand, if we take 1000 random samples, and plot the distribution of the respective pvalues,\n",
    "#we see the following.\n",
    "\n",
    "tp_val = []\n",
    "zp_val = []\n",
    "\n",
    "for _ in range(1000):\n",
    "    random_sample_10 = np.random.choice(temperature, size = 10)\n",
    "    #print('The mean of the random sample is: '+ str(np.mean(random_sample_10)))\n",
    "    t, pvalue1 = stats.ttest_1samp(random_sample_10,98.6)\n",
    "    d1 = sm.stats.DescrStatsW(random_sample_10)\n",
    "    z, pvalue2  = d1.ztest_mean(98.6)\n",
    "    #print('t-test pvalue = '+str(pvalue1))\n",
    "    #print('z-test pvalue = '+str(pvalue2))\n",
    "    tp_val.append(pvalue1)\n",
    "    zp_val.append(pvalue2)\n"
   ]
  },
  {
   "cell_type": "code",
   "execution_count": 77,
   "metadata": {
    "collapsed": false
   },
   "outputs": [
    {
     "data": {
      "text/plain": [
       "[<matplotlib.text.Text at 0x118718910>, <matplotlib.text.Text at 0x11870a6d0>]"
      ]
     },
     "execution_count": 77,
     "metadata": {},
     "output_type": "execute_result"
    },
    {
     "data": {
      "image/png": "[encoded data removed]",
      "text/plain": [
       "<matplotlib.figure.Figure at 0x1115eb8d0>"
      ]
     },
     "metadata": {},
     "output_type": "display_data"
    }
   ],
   "source": [
    "f = sns.distplot(tp_val, rug = True);\n",
    "f.set(xlabel = 't-test pvalue', ylabel = 'Probability density')"
   ]
  },
  {
   "cell_type": "code",
   "execution_count": 78,
   "metadata": {
    "collapsed": false
   },
   "outputs": [
    {
     "data": {
      "text/plain": [
       "[<matplotlib.text.Text at 0x119dac850>, <matplotlib.text.Text at 0x119d8f4d0>]"
      ]
     },
     "execution_count": 78,
     "metadata": {},
     "output_type": "execute_result"
    },
    {
     "data": {
      "image/png": "[encoded data removed]",
      "text/plain": [
       "<matplotlib.figure.Figure at 0x1187a0b50>"
      ]
     },
     "metadata": {},
     "output_type": "display_data"
    }
   ],
   "source": [
    "f = sns.distplot(zp_val, rug = True);\n",
    "f.set(xlabel = 'z-test pvalue', ylabel = 'Probability density')"
   ]
  },
  {
   "cell_type": "code",
   "execution_count": 79,
   "metadata": {
    "collapsed": false
   },
   "outputs": [
    {
     "name": "stdout",
     "output_type": "stream",
     "text": [
      "Number of significant pvalues for the t-test: 289\n",
      "Number of significant pvalues for the z-test: 397\n"
     ]
    }
   ],
   "source": [
    "tp_val_s = [x for x in tp_val if x <0.05]\n",
    "zp_val_s = [x for x in zp_val if x <0.05]\n",
    "print('Number of significant pvalues for the t-test: '+str(len(tp_val_s)))\n",
    "print('Number of significant pvalues for the z-test: '+str(len(zp_val_s)))"
   ]
  },
  {
   "cell_type": "markdown",
   "metadata": {},
   "source": [
    "In general, the pvalues obtained for the t-test and z-test when applied to a single random sample are similar to each other.\n",
    "Furthermore, when we repeat this process 1000 times, we can see that the distribution of the resulting pvalues are\n",
    "very similar for both tests. However, given the small sample size (10), the correct test to apply is the t-test. \n",
    "Of note,it should be noticed that the resulting p-value depends on the particular sample being tested. In both cases, only 1/3 (approx) out of the 1000 random samples, show a significant difference (pvalue < 0.05)\n",
    "from the hypothetical population mean (98.6)."
   ]
  },
  {
   "cell_type": "markdown",
   "metadata": {},
   "source": [
    "Q5: At what temperature should we consider someone's temperature to be \"abnormal\"? "
   ]
  },
  {
   "cell_type": "code",
   "execution_count": 80,
   "metadata": {
    "collapsed": false
   },
   "outputs": [
    {
     "name": "stdout",
     "output_type": "stream",
     "text": [
      "t-test pvalue = 2.41063204156e-07\n"
     ]
    }
   ],
   "source": [
    "t, pvalue1 = stats.ttest_1samp(temperature,98.6)\n",
    "print('t-test pvalue = '+str(pvalue1))"
   ]
  },
  {
   "cell_type": "code",
   "execution_count": 90,
   "metadata": {
    "collapsed": false
   },
   "outputs": [],
   "source": [
    "#To caulate the 95% confidence interval we can use the following method (.t.interval())\n",
    "#from the stats package\n",
    "x = temperature\n",
    "R = stats.t.interval(0.95,len(x)-1,loc=np.mean(x),scale=np.std(x)/np.sqrt(len(x)))\n",
    "a,b= R"
   ]
  },
  {
   "cell_type": "code",
   "execution_count": 91,
   "metadata": {
    "collapsed": false
   },
   "outputs": [
    {
     "name": "stdout",
     "output_type": "stream",
     "text": [
      "The 95% confidence interval for the population mean is:\n",
      "(98.122493188216382, 98.375968350245117)\n",
      " ... And the margin of error (ME) is: 0.126737581014\n"
     ]
    }
   ],
   "source": [
    "#Thus, given the present sample, the confidence interval for the population's mean is:\n",
    "print('The 95% confidence interval for the population mean is:')\n",
    "print(R)\n",
    "print(' ... And the margin of error (ME) is: '+str((b-a)/2))"
   ]
  },
  {
   "cell_type": "markdown",
   "metadata": {},
   "source": [
    "Based on the present sample, we could use the limits of the 95% confidence interval to discriminate normal or abnormal \n",
    "body temperature.That is, any body temperature that differs more thatn 0.13 (margin of error)\n",
    "from the sample mean (98.25), could be considered abnormal."
   ]
  },
  {
   "cell_type": "markdown",
   "metadata": {},
   "source": [
    "Q6: Is there a significant difference between males and females in normal temperature? "
   ]
  },
  {
   "cell_type": "code",
   "execution_count": 94,
   "metadata": {
    "collapsed": false
   },
   "outputs": [
    {
     "name": "stdout",
     "output_type": "stream",
     "text": [
      "The number of males is : 65\n",
      "The number of females is : 65\n",
      "The average male body temperature is : 98.1046153846\n",
      "The average female body temperature is : 98.3938461538\n"
     ]
    }
   ],
   "source": [
    "# First, we need to split the temperature data for males and females\n",
    "temperature_m = df[df.gender == 'M'].temperature.values\n",
    "temperature_f = df[df.gender == 'F'].temperature.values\n",
    "\n",
    "print('The number of males is : '+str(len(temperature_m)))\n",
    "print('The number of females is : '+str(len(temperature_f)))\n",
    "print('The average male body temperature is : '+str(np.mean(temperature_m)))\n",
    "print('The average female body temperature is : '+str(np.mean(temperature_f)))"
   ]
  },
  {
   "cell_type": "code",
   "execution_count": 95,
   "metadata": {
    "collapsed": false
   },
   "outputs": [
    {
     "name": "stdout",
     "output_type": "stream",
     "text": [
      "0.640439907457\n"
     ]
    }
   ],
   "source": [
    "t, p = stats.normaltest(temperature_m)\n",
    "print(p)"
   ]
  },
  {
   "cell_type": "code",
   "execution_count": 96,
   "metadata": {
    "collapsed": false
   },
   "outputs": [
    {
     "name": "stdout",
     "output_type": "stream",
     "text": [
      "0.0936941938986\n"
     ]
    }
   ],
   "source": [
    "t, p = stats.normaltest(temperature_f)\n",
    "print(p)"
   ]
  },
  {
   "cell_type": "markdown",
   "metadata": {},
   "source": [
    "The last two pvalues > 0.05 show that neither the male or female body temepratures are normally distributed.\n",
    "Also, because we don't know the male and femal population standar deviation for the body temperature,\n",
    "the appropiate test here is a two-sided two-sample t-test. Here the null hypothesis is that the mean mody temperature \n",
    "of males and females is the same'. It is two sided, because we have no reason to suspect a possible direction for a difference in male or female body temperature."
   ]
  },
  {
   "cell_type": "code",
   "execution_count": 98,
   "metadata": {
    "collapsed": false
   },
   "outputs": [
    {
     "name": "stdout",
     "output_type": "stream",
     "text": [
      "0.0239318831224\n"
     ]
    }
   ],
   "source": [
    "#\n",
    "t, pvalue = stats.ttest_ind(temperature_m, temperature_f)\n",
    "print(pvalue)"
   ]
  },
  {
   "cell_type": "markdown",
   "metadata": {},
   "source": [
    "Since pvalue < 0.05, we can conclude that the body temperatures of males and females is different. \n",
    "This might not be so surprising, since sexual dymorphism are common in biological phenomenae.\n",
    "the present analysis also suggests that teh population average body temperature is 98.2 °F, as oposed to 98.6 °F"
   ]
  },
  {
   "cell_type": "code",
   "execution_count": null,
   "metadata": {
    "collapsed": true
   },
   "outputs": [],
   "source": []
  }
 ],
 "metadata": {
  "kernelspec": {
   "display_name": "Python 2",
   "language": "python",
   "name": "python2"
  },
  "language_info": {
   "codemirror_mode": {
    "name": "ipython",
    "version": 2
   },
   "file_extension": ".py",
   "mimetype": "text/x-python",
   "name": "python",
   "nbconvert_exporter": "python",
   "pygments_lexer": "ipython2",
   "version": "2.7.13"
  }
 },
 "nbformat": 4,
 "nbformat_minor": 1
}
